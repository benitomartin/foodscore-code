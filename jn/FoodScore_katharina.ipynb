{
 "cells": [
  {
   "cell_type": "markdown",
   "id": "7ac0e704",
   "metadata": {},
   "source": [
    "## Libraries\n"
   ]
  },
  {
   "cell_type": "code",
   "execution_count": null,
   "id": "dc95e076",
   "metadata": {},
   "outputs": [],
   "source": [
    "# !pip install -r ~/code/benitomartin/FoodScore/requirements.txt"
   ]
  },
  {
   "cell_type": "code",
   "execution_count": null,
   "id": "239df9e4",
   "metadata": {},
   "outputs": [],
   "source": [
    "import os\n",
    "import cv2\n",
    "import numpy as np\n",
    "import pandas as pd\n",
    "\n",
    "import matplotlib.pyplot as plt\n",
    "from sklearn.model_selection import train_test_split\n",
    "\n",
    "from tensorflow.keras import layers \n",
    "from tensorflow.keras import Model \n",
    "from tensorflow.keras.optimizers import Adam\n",
    "from tensorflow.keras.preprocessing import image \n",
    "from tensorflow.keras.applications import VGG16\n",
    "from tensorflow.keras.utils import load_img, img_to_array, to_categorical, image_dataset_from_directory\n",
    "from sklearn.preprocessing import LabelEncoder, LabelBinarizer\n",
    "from tensorflow.keras import losses\n",
    "from tensorflow.keras.callbacks import EarlyStopping\n",
    "from tensorflow.keras.metrics import MeanIoU\n",
    "\n",
    "\n",
    "import pickle"
   ]
  },
  {
   "cell_type": "markdown",
   "id": "bb34a40c",
   "metadata": {},
   "source": [
    "## Data import"
   ]
  },
  {
   "cell_type": "code",
   "execution_count": null,
   "id": "663db74f",
   "metadata": {},
   "outputs": [],
   "source": [
    "coord = pd.DataFrame()\n",
    "\n",
    "for i in range(1, 257, 1):\n",
    "    path = f\"../raw_data/UECFOOD256/{i}\"\n",
    "    data = pd.read_csv(f\"{path}/bb_info.txt\", sep=' ', header=0, index_col=\"img\")\n",
    "    data_df = pd.DataFrame(data)\n",
    "    data_df[\"label\"] = i\n",
    "    coord = pd.concat([coord, data_df])\n",
    "    \n"
   ]
  },
  {
   "cell_type": "code",
   "execution_count": null,
   "id": "8453bbd2",
   "metadata": {},
   "outputs": [],
   "source": [
    "coord = coord.reset_index()"
   ]
  },
  {
   "cell_type": "markdown",
   "id": "ec4fc37a",
   "metadata": {},
   "source": [
    "### DataFrame with label and coordinates"
   ]
  },
  {
   "cell_type": "code",
   "execution_count": null,
   "id": "ae72b80a",
   "metadata": {},
   "outputs": [],
   "source": [
    "coord.shape"
   ]
  },
  {
   "cell_type": "code",
   "execution_count": null,
   "id": "8ac6a2fe",
   "metadata": {},
   "outputs": [],
   "source": [
    "coord.head()"
   ]
  },
  {
   "cell_type": "code",
   "execution_count": null,
   "id": "66f3b82e",
   "metadata": {},
   "outputs": [],
   "source": [
    "coord = coord.rename(columns={\"img\": \"img_name\"})"
   ]
  },
  {
   "cell_type": "code",
   "execution_count": null,
   "id": "35289d2f",
   "metadata": {},
   "outputs": [],
   "source": [
    "coord.head()"
   ]
  },
  {
   "cell_type": "markdown",
   "id": "d062f76b",
   "metadata": {},
   "source": [
    "### Rescaling and Normalization"
   ]
  },
  {
   "cell_type": "code",
   "execution_count": null,
   "id": "b79f3fb4",
   "metadata": {},
   "outputs": [],
   "source": [
    "# function to normalize bounding box\n",
    "\n",
    "def normalize_bbox(row):\n",
    "    # Read in the image and get its dimensions\n",
    "    image_path = f\"../raw_data/UECFOOD256/{(row['label'])}/{(row['img_name'])}.jpg\"\n",
    "    image = cv2.imread(image_path)\n",
    "    height, width = image.shape[:2]\n",
    "    \n",
    "    # Normalize the coordinates\n",
    "    x1_norm = row['x1'] / width\n",
    "    y1_norm = row['y1'] / height\n",
    "    x2_norm = row['x2'] / width\n",
    "    y2_norm = row['y2'] / height\n",
    "    \n",
    "    # Return normalized coordinates\n",
    "    return pd.Series({'x1_norm': x1_norm, 'y1_norm': y1_norm, 'x2_norm': x2_norm, 'y2_norm': y2_norm})\n",
    "\n",
    "# Apply the normalize_bbox function to each row of the DataFrame\n",
    "normalized_bbox_df = coord.apply(normalize_bbox, axis=1)\n",
    "\n",
    "# Concatenate the original DataFrame with the new normalized DataFrame\n",
    "rescaled_coord = pd.concat([coord, normalized_bbox_df], axis=1).drop(columns=['x1', 'y1','x2','y2'])\n"
   ]
  },
  {
   "cell_type": "code",
   "execution_count": null,
   "id": "ba6db58f",
   "metadata": {},
   "outputs": [],
   "source": [
    "rescaled_coord.head()"
   ]
  },
  {
   "cell_type": "markdown",
   "id": "b4efb29a",
   "metadata": {},
   "source": [
    "### add image paths"
   ]
  },
  {
   "cell_type": "code",
   "execution_count": null,
   "id": "39287908",
   "metadata": {},
   "outputs": [],
   "source": [
    "list_paths = [f\"../raw_data/UECFOOD256/{int(row['label'])}/{int(row['img_name'])}.jpg\" for _, row in coord.iterrows()]\n"
   ]
  },
  {
   "cell_type": "code",
   "execution_count": null,
   "id": "d8477d16",
   "metadata": {},
   "outputs": [],
   "source": [
    "rescaled_coord[\"paths\"] = pd.DataFrame(list_paths).copy()"
   ]
  },
  {
   "cell_type": "code",
   "execution_count": null,
   "id": "e326083c",
   "metadata": {},
   "outputs": [],
   "source": [
    "rescaled_coord.head()"
   ]
  },
  {
   "cell_type": "markdown",
   "id": "9899d5df",
   "metadata": {},
   "source": [
    "### balancing Dataset"
   ]
  },
  {
   "cell_type": "code",
   "execution_count": null,
   "id": "d28a970b",
   "metadata": {},
   "outputs": [],
   "source": [
    "def rebalancing(df: pd.DataFrame, classes: list, av_number: int = 110, random_state: int = 1) -> pd.DataFrame:\n",
    "    df_new = df.copy()\n",
    "    for class_ in classes:\n",
    "        class_df = df_new[df_new['label'] == class_]\n",
    "        class_count = len(class_df)\n",
    "        if class_count > av_number:\n",
    "            drop_indices = np.random.choice(class_df.index, class_count - av_number, replace=False)\n",
    "            df_new = df_new.drop(drop_indices)\n",
    "        else:\n",
    "            pass\n",
    "    return df_new"
   ]
  },
  {
   "cell_type": "code",
   "execution_count": null,
   "id": "1e3798c6",
   "metadata": {},
   "outputs": [],
   "source": [
    "classes = list(set(rescaled_coord.label))"
   ]
  },
  {
   "cell_type": "code",
   "execution_count": null,
   "id": "cc00b4d9",
   "metadata": {},
   "outputs": [],
   "source": [
    "df = rebalancing(rescaled_coord, classes, av_number= 200, random_state=1)"
   ]
  },
  {
   "cell_type": "code",
   "execution_count": null,
   "id": "39525791",
   "metadata": {},
   "outputs": [],
   "source": [
    "rescaled_coord[rescaled_coord['label']==100].shape"
   ]
  },
  {
   "cell_type": "code",
   "execution_count": null,
   "id": "4fe18b6e",
   "metadata": {},
   "outputs": [],
   "source": [
    "df[df['label']==100].shape"
   ]
  },
  {
   "cell_type": "markdown",
   "id": "45d9d7b4",
   "metadata": {},
   "source": [
    "### load downscaled pictures into array"
   ]
  },
  {
   "cell_type": "code",
   "execution_count": null,
   "id": "56915830",
   "metadata": {},
   "outputs": [],
   "source": [
    "from tqdm.auto import tqdm"
   ]
  },
  {
   "cell_type": "code",
   "execution_count": null,
   "id": "db22c3c8",
   "metadata": {},
   "outputs": [],
   "source": [
    "df.head()"
   ]
  },
  {
   "cell_type": "code",
   "execution_count": null,
   "id": "fa041e32",
   "metadata": {},
   "outputs": [],
   "source": [
    "df_shuffled = df.sample(frac=1, random_state=42)\n",
    "df_shuffled.head()"
   ]
  },
  {
   "cell_type": "code",
   "execution_count": null,
   "id": "c26db844",
   "metadata": {},
   "outputs": [],
   "source": []
  },
  {
   "cell_type": "code",
   "execution_count": null,
   "id": "1ca9c622",
   "metadata": {},
   "outputs": [],
   "source": [
    "color_order = \"BGR\"\n",
    "dims = (224,224)\n",
    "\n",
    "images = np.empty((len(df_shuffled), dims[0], dims[1], 3), dtype=np.float32)\n",
    "\n",
    "for i, path in enumerate(tqdm(df_shuffled.paths.values)):\n",
    "    img = cv2.imread(path)\n",
    "    img = cv2.resize(img, dims, interpolation=cv2.INTER_AREA)\n",
    "    if color_order == \"RGB\":\n",
    "        img = img[:,:,::-1]\n",
    "    images[i, :, :, :] = img/255"
   ]
  },
  {
   "cell_type": "code",
   "execution_count": null,
   "id": "15e83bfb",
   "metadata": {},
   "outputs": [],
   "source": [
    "labels = np.array(df_shuffled.label)\n",
    "bboxes = np.array(df_shuffled[['x1_norm','y1_norm','x2_norm','y2_norm']], dtype=\"float32\")\n",
    "paths = np.array(df_shuffled.paths)"
   ]
  },
  {
   "cell_type": "code",
   "execution_count": null,
   "id": "b19a9745",
   "metadata": {},
   "outputs": [],
   "source": [
    "lb = LabelBinarizer()\n",
    "labels = lb.fit_transform(labels)"
   ]
  },
  {
   "cell_type": "code",
   "execution_count": null,
   "id": "3e6c6de4",
   "metadata": {},
   "outputs": [],
   "source": [
    "if len(lb.classes_) == 2:\n",
    "    print(\"two classes\")\n",
    "    labels = to_categorical(labels)"
   ]
  },
  {
   "cell_type": "code",
   "execution_count": null,
   "id": "0dc32e91",
   "metadata": {},
   "outputs": [],
   "source": [
    "trainImages, testImages,trainLabels, testLabels,trainBBoxes, testBBoxes,trainPaths, testPaths=\\\n",
    "train_test_split(images,\n",
    "                 labels,\n",
    "                 bboxes,\n",
    "                 paths,\n",
    "                 test_size=0.20,\n",
    "                 random_state=42)"
   ]
  },
  {
   "cell_type": "markdown",
   "id": "07fe1a9f-1438-435d-9213-e415e737e2ce",
   "metadata": {},
   "source": [
    "## Model"
   ]
  },
  {
   "cell_type": "code",
   "execution_count": null,
   "id": "91a6307a-e215-46f3-9d95-38b04d28e486",
   "metadata": {
    "tags": []
   },
   "outputs": [],
   "source": [
    "vgg = VGG16(weights=\"imagenet\",\n",
    "            include_top=False,\n",
    "            input_tensor=layers.Input(shape=(224, 224, 3)))\n",
    "\n",
    "\n",
    "vgg.trainable = False\n",
    "\n",
    "flatten = vgg.output\n",
    "flatten = layers.Flatten()(flatten)\n",
    "\n",
    "bboxHead = layers.Dense(128, activation=\"relu\")(flatten)\n",
    "bboxHead = layers.Dense(64, activation=\"relu\")(bboxHead)\n",
    "bboxHead = layers.Dense(32, activation=\"relu\")(bboxHead)\n",
    "bboxHead = layers.Dense(4, activation=\"sigmoid\", name=\"bounding_box\")(bboxHead)\n",
    "\n",
    "softmaxHead = layers.Dense(512, activation=\"relu\")(flatten)\n",
    "softmaxHead = layers.Dropout(0.5)(softmaxHead)\n",
    "softmaxHead = layers.Dense(512, activation=\"relu\")(softmaxHead)\n",
    "softmaxHead = layers.Dropout(0.5)(softmaxHead)\n",
    "softmaxHead = layers.Dense(257, activation=\"softmax\", name=\"class_label\")(softmaxHead)\n"
   ]
  },
  {
   "cell_type": "code",
   "execution_count": null,
   "id": "baae9df2",
   "metadata": {},
   "outputs": [],
   "source": [
    "model = Model(\n",
    "    inputs=vgg.input,\n",
    "    outputs=(bboxHead, softmaxHead))"
   ]
  },
  {
   "cell_type": "code",
   "execution_count": null,
   "id": "bcc0bcf5-27a3-40ad-afff-a866e4968c7a",
   "metadata": {
    "tags": []
   },
   "outputs": [],
   "source": [
    "losses = {\n",
    "    \"class_label\": 'sparse_categorical_crossentropy',\n",
    "    \"bounding_box\": \"mse\"\n",
    "}"
   ]
  },
  {
   "cell_type": "code",
   "execution_count": null,
   "id": "f310cfdc-d5d4-44a6-bb08-0a1c8bb5a50f",
   "metadata": {
    "tags": []
   },
   "outputs": [],
   "source": [
    "lossWeights = {\n",
    "    \"class_label\": 1.0,\n",
    "    \"bounding_box\": 1.0\n",
    "}"
   ]
  },
  {
   "cell_type": "code",
   "execution_count": null,
   "id": "28703d3b-b0d6-4531-84a4-570bf5d9478d",
   "metadata": {
    "tags": []
   },
   "outputs": [],
   "source": [
    "trainTargets = {\n",
    "    \"class_label\": trainLabels,\n",
    "    \"bounding_box\": trainBBoxes\n",
    "}"
   ]
  },
  {
   "cell_type": "code",
   "execution_count": null,
   "id": "69a31368-8f9e-4eec-9464-80a9b6ff156c",
   "metadata": {
    "tags": []
   },
   "outputs": [],
   "source": [
    "testTargets = {\n",
    "    \"class_label\": testLabels,\n",
    "    \"bounding_box\": testBBoxes\n",
    "}"
   ]
  },
  {
   "cell_type": "code",
   "execution_count": null,
   "id": "abbf8942-5e42-44b6-a1d2-ade79a97f7c2",
   "metadata": {
    "tags": []
   },
   "outputs": [],
   "source": [
    "metrics = {\n",
    "    \"class_label\": \"sparse_categorical_accuracy\",\n",
    "    \"bounding_box\": MeanIoU(num_classes=len(lb.classes_))\n",
    "}"
   ]
  },
  {
   "cell_type": "code",
   "execution_count": null,
   "id": "466bd563-30fe-4ae0-9e07-bb7a43f1d984",
   "metadata": {
    "tags": []
   },
   "outputs": [],
   "source": [
    "opt = Adam(0.001)\n",
    "\n",
    "\n",
    "model.compile(loss=losses, \n",
    "              optimizer=opt, \n",
    "              metrics=[\"accuracy\",'mse'], \n",
    "              loss_weights=lossWeights)\n",
    "\n",
    "print(model.summary())"
   ]
  },
  {
   "cell_type": "code",
   "execution_count": null,
   "id": "61ba612d",
   "metadata": {},
   "outputs": [],
   "source": [
    "es = EarlyStopping(monitor = 'accuracy',\n",
    "                   patience = 5,\n",
    "                   verbose = 0,\n",
    "                   restore_best_weights = True)"
   ]
  },
  {
   "cell_type": "code",
   "execution_count": null,
   "id": "5ac2155e",
   "metadata": {},
   "outputs": [],
   "source": [
    "history = model.fit(\n",
    "    trainImages,\n",
    "    trainTargets,\n",
    "    validation_data=(testImages, testTargets),\n",
    "    batch_size=32,\n",
    "    epochs=1000,\n",
    "    verbose=1,\n",
    "    )"
   ]
  },
  {
   "cell_type": "code",
   "execution_count": null,
   "id": "3c54eb2c",
   "metadata": {},
   "outputs": [],
   "source": []
  },
  {
   "cell_type": "code",
   "execution_count": null,
   "id": "8bc21d15",
   "metadata": {},
   "outputs": [],
   "source": []
  }
 ],
 "metadata": {
  "kernelspec": {
   "display_name": "Python 3 (ipykernel)",
   "language": "python",
   "name": "python3"
  },
  "language_info": {
   "codemirror_mode": {
    "name": "ipython",
    "version": 3
   },
   "file_extension": ".py",
   "mimetype": "text/x-python",
   "name": "python",
   "nbconvert_exporter": "python",
   "pygments_lexer": "ipython3",
   "version": "3.10.6"
  },
  "toc": {
   "base_numbering": 1,
   "nav_menu": {},
   "number_sections": true,
   "sideBar": true,
   "skip_h1_title": false,
   "title_cell": "Table of Contents",
   "title_sidebar": "Contents",
   "toc_cell": false,
   "toc_position": {},
   "toc_section_display": true,
   "toc_window_display": false
  },
  "varInspector": {
   "cols": {
    "lenName": 16,
    "lenType": 16,
    "lenVar": 40
   },
   "kernels_config": {
    "python": {
     "delete_cmd_postfix": "",
     "delete_cmd_prefix": "del ",
     "library": "var_list.py",
     "varRefreshCmd": "print(var_dic_list())"
    },
    "r": {
     "delete_cmd_postfix": ") ",
     "delete_cmd_prefix": "rm(",
     "library": "var_list.r",
     "varRefreshCmd": "cat(var_dic_list()) "
    }
   },
   "types_to_exclude": [
    "module",
    "function",
    "builtin_function_or_method",
    "instance",
    "_Feature"
   ],
   "window_display": false
  }
 },
 "nbformat": 4,
 "nbformat_minor": 5
}

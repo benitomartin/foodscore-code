{
 "cells": [
  {
   "cell_type": "code",
   "execution_count": 2,
   "id": "d5b0a7ad",
   "metadata": {},
   "outputs": [],
   "source": [
    "import requests"
   ]
  },
  {
   "cell_type": "code",
   "execution_count": 3,
   "id": "9f45288c",
   "metadata": {},
   "outputs": [],
   "source": [
    "path = '/Users/katharinarolfs/code/benitomartin/FoodScore/raw_data/UECFOOD100/1/1.jpg'\n"
   ]
  },
  {
   "cell_type": "code",
   "execution_count": 8,
   "id": "09959f57",
   "metadata": {},
   "outputs": [],
   "source": [
    "df = requests.post('http://localhost:8000/upload_image',files={'img':open(path,'rb')}).json()"
   ]
  },
  {
   "cell_type": "code",
   "execution_count": 9,
   "id": "eb83923b",
   "metadata": {},
   "outputs": [
    {
     "data": {
      "text/plain": [
       "{'name': {'0': 'sauteed vegetables',\n",
       "  '1': 'rice',\n",
       "  '2': 'Japanese tofu and vegetable chowder',\n",
       "  '3': 'sukiyaki',\n",
       "  '4': 'chinese soup'},\n",
       " 'protein': {'0': 23.1, '1': 3.47, '2': 4.01, '3': 6.67, '4': 2.08},\n",
       " 'calcium': {'0': 0.018, '1': 0.028, '2': 0.035, '3': 0.035, '4': 0.005},\n",
       " 'fat': {'0': 18.4, '1': 2.43, '2': 16.0, '3': 'nan', '4': 0.26},\n",
       " 'carbohydrates': {'0': 'nan', '1': 26.4, '2': 4.49, '3': 26.7, '4': 5.25},\n",
       " 'vitamins': {'0': 'nan',\n",
       "  '1': 0.0715,\n",
       "  '2': 0.0848,\n",
       "  '3': 0.0848,\n",
       "  '4': 0.013699999999999999}}"
      ]
     },
     "execution_count": 9,
     "metadata": {},
     "output_type": "execute_result"
    }
   ],
   "source": [
    "df"
   ]
  },
  {
   "cell_type": "code",
   "execution_count": 10,
   "id": "4a22742b",
   "metadata": {},
   "outputs": [],
   "source": [
    "import pandas as pd"
   ]
  },
  {
   "cell_type": "code",
   "execution_count": 11,
   "id": "649c696f",
   "metadata": {},
   "outputs": [
    {
     "data": {
      "text/html": [
       "<div>\n",
       "<style scoped>\n",
       "    .dataframe tbody tr th:only-of-type {\n",
       "        vertical-align: middle;\n",
       "    }\n",
       "\n",
       "    .dataframe tbody tr th {\n",
       "        vertical-align: top;\n",
       "    }\n",
       "\n",
       "    .dataframe thead th {\n",
       "        text-align: right;\n",
       "    }\n",
       "</style>\n",
       "<table border=\"1\" class=\"dataframe\">\n",
       "  <thead>\n",
       "    <tr style=\"text-align: right;\">\n",
       "      <th></th>\n",
       "      <th>name</th>\n",
       "      <th>protein</th>\n",
       "      <th>calcium</th>\n",
       "      <th>fat</th>\n",
       "      <th>carbohydrates</th>\n",
       "      <th>vitamins</th>\n",
       "    </tr>\n",
       "  </thead>\n",
       "  <tbody>\n",
       "    <tr>\n",
       "      <th>0</th>\n",
       "      <td>sauteed vegetables</td>\n",
       "      <td>23.10</td>\n",
       "      <td>0.018</td>\n",
       "      <td>18.4</td>\n",
       "      <td>nan</td>\n",
       "      <td>nan</td>\n",
       "    </tr>\n",
       "    <tr>\n",
       "      <th>1</th>\n",
       "      <td>rice</td>\n",
       "      <td>3.47</td>\n",
       "      <td>0.028</td>\n",
       "      <td>2.43</td>\n",
       "      <td>26.4</td>\n",
       "      <td>0.0715</td>\n",
       "    </tr>\n",
       "    <tr>\n",
       "      <th>2</th>\n",
       "      <td>Japanese tofu and vegetable chowder</td>\n",
       "      <td>4.01</td>\n",
       "      <td>0.035</td>\n",
       "      <td>16.0</td>\n",
       "      <td>4.49</td>\n",
       "      <td>0.0848</td>\n",
       "    </tr>\n",
       "    <tr>\n",
       "      <th>3</th>\n",
       "      <td>sukiyaki</td>\n",
       "      <td>6.67</td>\n",
       "      <td>0.035</td>\n",
       "      <td>nan</td>\n",
       "      <td>26.7</td>\n",
       "      <td>0.0848</td>\n",
       "    </tr>\n",
       "    <tr>\n",
       "      <th>4</th>\n",
       "      <td>chinese soup</td>\n",
       "      <td>2.08</td>\n",
       "      <td>0.005</td>\n",
       "      <td>0.26</td>\n",
       "      <td>5.25</td>\n",
       "      <td>0.0137</td>\n",
       "    </tr>\n",
       "  </tbody>\n",
       "</table>\n",
       "</div>"
      ],
      "text/plain": [
       "                                  name  protein  calcium   fat carbohydrates  \\\n",
       "0                   sauteed vegetables    23.10    0.018  18.4           nan   \n",
       "1                                 rice     3.47    0.028  2.43          26.4   \n",
       "2  Japanese tofu and vegetable chowder     4.01    0.035  16.0          4.49   \n",
       "3                             sukiyaki     6.67    0.035   nan          26.7   \n",
       "4                         chinese soup     2.08    0.005  0.26          5.25   \n",
       "\n",
       "  vitamins  \n",
       "0      nan  \n",
       "1   0.0715  \n",
       "2   0.0848  \n",
       "3   0.0848  \n",
       "4   0.0137  "
      ]
     },
     "execution_count": 11,
     "metadata": {},
     "output_type": "execute_result"
    }
   ],
   "source": [
    "pd.DataFrame(df)"
   ]
  },
  {
   "cell_type": "code",
   "execution_count": 12,
   "id": "c726cb04",
   "metadata": {},
   "outputs": [
    {
     "name": "stdout",
     "output_type": "stream",
     "text": [
      "/Users/katharinarolfs/code/benitomartin/FoodScore/jn\r\n"
     ]
    }
   ],
   "source": [
    "! pwd"
   ]
  },
  {
   "cell_type": "code",
   "execution_count": null,
   "id": "b64a086b",
   "metadata": {},
   "outputs": [],
   "source": []
  }
 ],
 "metadata": {
  "kernelspec": {
   "display_name": "Python 3 (ipykernel)",
   "language": "python",
   "name": "python3"
  },
  "language_info": {
   "codemirror_mode": {
    "name": "ipython",
    "version": 3
   },
   "file_extension": ".py",
   "mimetype": "text/x-python",
   "name": "python",
   "nbconvert_exporter": "python",
   "pygments_lexer": "ipython3",
   "version": "3.10.6"
  },
  "toc": {
   "base_numbering": 1,
   "nav_menu": {},
   "number_sections": true,
   "sideBar": true,
   "skip_h1_title": false,
   "title_cell": "Table of Contents",
   "title_sidebar": "Contents",
   "toc_cell": false,
   "toc_position": {},
   "toc_section_display": true,
   "toc_window_display": false
  }
 },
 "nbformat": 4,
 "nbformat_minor": 5
}

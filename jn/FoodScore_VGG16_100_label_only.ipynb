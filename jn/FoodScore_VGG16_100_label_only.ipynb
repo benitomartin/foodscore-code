{
 "cells": [
  {
   "cell_type": "markdown",
   "id": "7ac0e704",
   "metadata": {},
   "source": [
    "## Libraries\n"
   ]
  },
  {
   "cell_type": "code",
   "execution_count": null,
   "id": "dc95e076",
   "metadata": {},
   "outputs": [],
   "source": [
    "# !pip install -r ~/code/benitomartin/FoodScore/requirements.txt"
   ]
  },
  {
   "cell_type": "code",
   "execution_count": 1,
   "id": "239df9e4",
   "metadata": {},
   "outputs": [],
   "source": [
    "import os\n",
    "import cv2\n",
    "import numpy as np\n",
    "import pandas as pd\n",
    "\n",
    "import matplotlib.pyplot as plt\n",
    "from sklearn.model_selection import train_test_split\n",
    "\n",
    "from tensorflow.keras import layers \n",
    "from tensorflow.keras import Model \n",
    "from tensorflow.keras.optimizers import Adam\n",
    "from tensorflow.keras.preprocessing import image \n",
    "from tensorflow.keras.applications import VGG16\n",
    "from tensorflow.keras.utils import load_img, img_to_array, to_categorical, image_dataset_from_directory\n",
    "from sklearn.preprocessing import LabelEncoder, LabelBinarizer\n",
    "from tensorflow.keras import losses\n",
    "from tensorflow.keras.callbacks import EarlyStopping\n",
    "from tensorflow.keras.metrics import MeanIoU\n",
    "\n",
    "\n",
    "import pickle"
   ]
  },
  {
   "cell_type": "markdown",
   "id": "bb34a40c",
   "metadata": {},
   "source": [
    "## Data import"
   ]
  },
  {
   "cell_type": "code",
   "execution_count": 2,
   "id": "663db74f",
   "metadata": {},
   "outputs": [],
   "source": [
    "coord = pd.DataFrame()\n",
    "\n",
    "for i in range(1, 101, 1):\n",
    "    path = f\"../raw_data/UECFOOD100/{i}\"\n",
    "    data = pd.read_csv(f\"{path}/bb_info.txt\", sep=' ', header=0, index_col=\"img\")\n",
    "    data_df = pd.DataFrame(data)\n",
    "    data_df[\"label\"] = i\n",
    "    coord = pd.concat([coord, data_df])\n",
    "    \n"
   ]
  },
  {
   "cell_type": "code",
   "execution_count": 3,
   "id": "8453bbd2",
   "metadata": {},
   "outputs": [],
   "source": [
    "coord = coord.reset_index()"
   ]
  },
  {
   "cell_type": "markdown",
   "id": "ec4fc37a",
   "metadata": {},
   "source": [
    "### DataFrame with label and coordinates"
   ]
  },
  {
   "cell_type": "code",
   "execution_count": 4,
   "id": "8ac6a2fe",
   "metadata": {},
   "outputs": [
    {
     "data": {
      "text/html": [
       "<div>\n",
       "<style scoped>\n",
       "    .dataframe tbody tr th:only-of-type {\n",
       "        vertical-align: middle;\n",
       "    }\n",
       "\n",
       "    .dataframe tbody tr th {\n",
       "        vertical-align: top;\n",
       "    }\n",
       "\n",
       "    .dataframe thead th {\n",
       "        text-align: right;\n",
       "    }\n",
       "</style>\n",
       "<table border=\"1\" class=\"dataframe\">\n",
       "  <thead>\n",
       "    <tr style=\"text-align: right;\">\n",
       "      <th></th>\n",
       "      <th>img</th>\n",
       "      <th>x1</th>\n",
       "      <th>y1</th>\n",
       "      <th>x2</th>\n",
       "      <th>y2</th>\n",
       "      <th>label</th>\n",
       "    </tr>\n",
       "  </thead>\n",
       "  <tbody>\n",
       "    <tr>\n",
       "      <th>0</th>\n",
       "      <td>1</td>\n",
       "      <td>0</td>\n",
       "      <td>143</td>\n",
       "      <td>370</td>\n",
       "      <td>486</td>\n",
       "      <td>1</td>\n",
       "    </tr>\n",
       "    <tr>\n",
       "      <th>1</th>\n",
       "      <td>2</td>\n",
       "      <td>20</td>\n",
       "      <td>208</td>\n",
       "      <td>582</td>\n",
       "      <td>559</td>\n",
       "      <td>1</td>\n",
       "    </tr>\n",
       "    <tr>\n",
       "      <th>2</th>\n",
       "      <td>3</td>\n",
       "      <td>2</td>\n",
       "      <td>110</td>\n",
       "      <td>243</td>\n",
       "      <td>410</td>\n",
       "      <td>1</td>\n",
       "    </tr>\n",
       "    <tr>\n",
       "      <th>3</th>\n",
       "      <td>4</td>\n",
       "      <td>0</td>\n",
       "      <td>237</td>\n",
       "      <td>286</td>\n",
       "      <td>536</td>\n",
       "      <td>1</td>\n",
       "    </tr>\n",
       "    <tr>\n",
       "      <th>4</th>\n",
       "      <td>5</td>\n",
       "      <td>8</td>\n",
       "      <td>28</td>\n",
       "      <td>761</td>\n",
       "      <td>585</td>\n",
       "      <td>1</td>\n",
       "    </tr>\n",
       "  </tbody>\n",
       "</table>\n",
       "</div>"
      ],
      "text/plain": [
       "   img  x1   y1   x2   y2  label\n",
       "0    1   0  143  370  486      1\n",
       "1    2  20  208  582  559      1\n",
       "2    3   2  110  243  410      1\n",
       "3    4   0  237  286  536      1\n",
       "4    5   8   28  761  585      1"
      ]
     },
     "execution_count": 4,
     "metadata": {},
     "output_type": "execute_result"
    }
   ],
   "source": [
    "coord.head()"
   ]
  },
  {
   "cell_type": "code",
   "execution_count": 5,
   "id": "66f3b82e",
   "metadata": {},
   "outputs": [],
   "source": [
    "coord = coord.rename(columns={\"img\": \"img_name\"})"
   ]
  },
  {
   "cell_type": "code",
   "execution_count": 6,
   "id": "35289d2f",
   "metadata": {},
   "outputs": [
    {
     "data": {
      "text/html": [
       "<div>\n",
       "<style scoped>\n",
       "    .dataframe tbody tr th:only-of-type {\n",
       "        vertical-align: middle;\n",
       "    }\n",
       "\n",
       "    .dataframe tbody tr th {\n",
       "        vertical-align: top;\n",
       "    }\n",
       "\n",
       "    .dataframe thead th {\n",
       "        text-align: right;\n",
       "    }\n",
       "</style>\n",
       "<table border=\"1\" class=\"dataframe\">\n",
       "  <thead>\n",
       "    <tr style=\"text-align: right;\">\n",
       "      <th></th>\n",
       "      <th>img_name</th>\n",
       "      <th>x1</th>\n",
       "      <th>y1</th>\n",
       "      <th>x2</th>\n",
       "      <th>y2</th>\n",
       "      <th>label</th>\n",
       "    </tr>\n",
       "  </thead>\n",
       "  <tbody>\n",
       "    <tr>\n",
       "      <th>0</th>\n",
       "      <td>1</td>\n",
       "      <td>0</td>\n",
       "      <td>143</td>\n",
       "      <td>370</td>\n",
       "      <td>486</td>\n",
       "      <td>1</td>\n",
       "    </tr>\n",
       "    <tr>\n",
       "      <th>1</th>\n",
       "      <td>2</td>\n",
       "      <td>20</td>\n",
       "      <td>208</td>\n",
       "      <td>582</td>\n",
       "      <td>559</td>\n",
       "      <td>1</td>\n",
       "    </tr>\n",
       "    <tr>\n",
       "      <th>2</th>\n",
       "      <td>3</td>\n",
       "      <td>2</td>\n",
       "      <td>110</td>\n",
       "      <td>243</td>\n",
       "      <td>410</td>\n",
       "      <td>1</td>\n",
       "    </tr>\n",
       "    <tr>\n",
       "      <th>3</th>\n",
       "      <td>4</td>\n",
       "      <td>0</td>\n",
       "      <td>237</td>\n",
       "      <td>286</td>\n",
       "      <td>536</td>\n",
       "      <td>1</td>\n",
       "    </tr>\n",
       "    <tr>\n",
       "      <th>4</th>\n",
       "      <td>5</td>\n",
       "      <td>8</td>\n",
       "      <td>28</td>\n",
       "      <td>761</td>\n",
       "      <td>585</td>\n",
       "      <td>1</td>\n",
       "    </tr>\n",
       "  </tbody>\n",
       "</table>\n",
       "</div>"
      ],
      "text/plain": [
       "   img_name  x1   y1   x2   y2  label\n",
       "0         1   0  143  370  486      1\n",
       "1         2  20  208  582  559      1\n",
       "2         3   2  110  243  410      1\n",
       "3         4   0  237  286  536      1\n",
       "4         5   8   28  761  585      1"
      ]
     },
     "execution_count": 6,
     "metadata": {},
     "output_type": "execute_result"
    }
   ],
   "source": [
    "coord.head()"
   ]
  },
  {
   "cell_type": "markdown",
   "id": "d062f76b",
   "metadata": {},
   "source": [
    "### Rescaling and Normalization"
   ]
  },
  {
   "cell_type": "code",
   "execution_count": 7,
   "id": "b79f3fb4",
   "metadata": {},
   "outputs": [],
   "source": [
    "# function to normalize bounding box\n",
    "\n",
    "def normalize_bbox(row):\n",
    "    # Read in the image and get its dimensions\n",
    "    image_path = f\"../raw_data/UECFOOD100/{(row['label'])}/{(row['img_name'])}.jpg\"\n",
    "    image = cv2.imread(image_path)\n",
    "    height, width = image.shape[:2]\n",
    "    \n",
    "    # Normalize the coordinates\n",
    "    x1_norm = row['x1'] / width\n",
    "    y1_norm = row['y1'] / height\n",
    "    x2_norm = row['x2'] / width\n",
    "    y2_norm = row['y2'] / height\n",
    "    \n",
    "    # Return normalized coordinates\n",
    "    return pd.Series({'x1_norm': x1_norm, 'y1_norm': y1_norm, 'x2_norm': x2_norm, 'y2_norm': y2_norm})\n",
    "\n",
    "# Apply the normalize_bbox function to each row of the DataFrame\n",
    "normalized_bbox_df = coord.apply(normalize_bbox, axis=1)\n",
    "\n",
    "# Concatenate the original DataFrame with the new normalized DataFrame\n",
    "rescaled_coord = pd.concat([coord, normalized_bbox_df], axis=1).drop(columns=['x1', 'y1','x2','y2'])\n"
   ]
  },
  {
   "cell_type": "code",
   "execution_count": 8,
   "id": "ba6db58f",
   "metadata": {},
   "outputs": [
    {
     "data": {
      "text/html": [
       "<div>\n",
       "<style scoped>\n",
       "    .dataframe tbody tr th:only-of-type {\n",
       "        vertical-align: middle;\n",
       "    }\n",
       "\n",
       "    .dataframe tbody tr th {\n",
       "        vertical-align: top;\n",
       "    }\n",
       "\n",
       "    .dataframe thead th {\n",
       "        text-align: right;\n",
       "    }\n",
       "</style>\n",
       "<table border=\"1\" class=\"dataframe\">\n",
       "  <thead>\n",
       "    <tr style=\"text-align: right;\">\n",
       "      <th></th>\n",
       "      <th>img_name</th>\n",
       "      <th>label</th>\n",
       "      <th>x1_norm</th>\n",
       "      <th>y1_norm</th>\n",
       "      <th>x2_norm</th>\n",
       "      <th>y2_norm</th>\n",
       "    </tr>\n",
       "  </thead>\n",
       "  <tbody>\n",
       "    <tr>\n",
       "      <th>0</th>\n",
       "      <td>1</td>\n",
       "      <td>1</td>\n",
       "      <td>0.0000</td>\n",
       "      <td>0.238333</td>\n",
       "      <td>0.46250</td>\n",
       "      <td>0.810000</td>\n",
       "    </tr>\n",
       "    <tr>\n",
       "      <th>1</th>\n",
       "      <td>2</td>\n",
       "      <td>1</td>\n",
       "      <td>0.0250</td>\n",
       "      <td>0.346667</td>\n",
       "      <td>0.72750</td>\n",
       "      <td>0.931667</td>\n",
       "    </tr>\n",
       "    <tr>\n",
       "      <th>2</th>\n",
       "      <td>3</td>\n",
       "      <td>1</td>\n",
       "      <td>0.0025</td>\n",
       "      <td>0.183333</td>\n",
       "      <td>0.30375</td>\n",
       "      <td>0.683333</td>\n",
       "    </tr>\n",
       "    <tr>\n",
       "      <th>3</th>\n",
       "      <td>4</td>\n",
       "      <td>1</td>\n",
       "      <td>0.0000</td>\n",
       "      <td>0.395000</td>\n",
       "      <td>0.35750</td>\n",
       "      <td>0.893333</td>\n",
       "    </tr>\n",
       "    <tr>\n",
       "      <th>4</th>\n",
       "      <td>5</td>\n",
       "      <td>1</td>\n",
       "      <td>0.0100</td>\n",
       "      <td>0.046667</td>\n",
       "      <td>0.95125</td>\n",
       "      <td>0.975000</td>\n",
       "    </tr>\n",
       "  </tbody>\n",
       "</table>\n",
       "</div>"
      ],
      "text/plain": [
       "   img_name  label  x1_norm   y1_norm  x2_norm   y2_norm\n",
       "0         1      1   0.0000  0.238333  0.46250  0.810000\n",
       "1         2      1   0.0250  0.346667  0.72750  0.931667\n",
       "2         3      1   0.0025  0.183333  0.30375  0.683333\n",
       "3         4      1   0.0000  0.395000  0.35750  0.893333\n",
       "4         5      1   0.0100  0.046667  0.95125  0.975000"
      ]
     },
     "execution_count": 8,
     "metadata": {},
     "output_type": "execute_result"
    }
   ],
   "source": [
    "rescaled_coord.head()"
   ]
  },
  {
   "cell_type": "markdown",
   "id": "b4efb29a",
   "metadata": {},
   "source": [
    "### add image paths"
   ]
  },
  {
   "cell_type": "code",
   "execution_count": 9,
   "id": "39287908",
   "metadata": {},
   "outputs": [],
   "source": [
    "list_paths = [f\"../raw_data/UECFOOD100/{int(row['label'])}/{int(row['img_name'])}.jpg\" for _, row in coord.iterrows()]\n"
   ]
  },
  {
   "cell_type": "code",
   "execution_count": 10,
   "id": "d8477d16",
   "metadata": {},
   "outputs": [],
   "source": [
    "rescaled_coord[\"paths\"] = pd.DataFrame(list_paths).copy()"
   ]
  },
  {
   "cell_type": "code",
   "execution_count": 11,
   "id": "e326083c",
   "metadata": {},
   "outputs": [
    {
     "data": {
      "text/html": [
       "<div>\n",
       "<style scoped>\n",
       "    .dataframe tbody tr th:only-of-type {\n",
       "        vertical-align: middle;\n",
       "    }\n",
       "\n",
       "    .dataframe tbody tr th {\n",
       "        vertical-align: top;\n",
       "    }\n",
       "\n",
       "    .dataframe thead th {\n",
       "        text-align: right;\n",
       "    }\n",
       "</style>\n",
       "<table border=\"1\" class=\"dataframe\">\n",
       "  <thead>\n",
       "    <tr style=\"text-align: right;\">\n",
       "      <th></th>\n",
       "      <th>img_name</th>\n",
       "      <th>label</th>\n",
       "      <th>x1_norm</th>\n",
       "      <th>y1_norm</th>\n",
       "      <th>x2_norm</th>\n",
       "      <th>y2_norm</th>\n",
       "      <th>paths</th>\n",
       "    </tr>\n",
       "  </thead>\n",
       "  <tbody>\n",
       "    <tr>\n",
       "      <th>0</th>\n",
       "      <td>1</td>\n",
       "      <td>1</td>\n",
       "      <td>0.0000</td>\n",
       "      <td>0.238333</td>\n",
       "      <td>0.46250</td>\n",
       "      <td>0.810000</td>\n",
       "      <td>../raw_data/UECFOOD100/1/1.jpg</td>\n",
       "    </tr>\n",
       "    <tr>\n",
       "      <th>1</th>\n",
       "      <td>2</td>\n",
       "      <td>1</td>\n",
       "      <td>0.0250</td>\n",
       "      <td>0.346667</td>\n",
       "      <td>0.72750</td>\n",
       "      <td>0.931667</td>\n",
       "      <td>../raw_data/UECFOOD100/1/2.jpg</td>\n",
       "    </tr>\n",
       "    <tr>\n",
       "      <th>2</th>\n",
       "      <td>3</td>\n",
       "      <td>1</td>\n",
       "      <td>0.0025</td>\n",
       "      <td>0.183333</td>\n",
       "      <td>0.30375</td>\n",
       "      <td>0.683333</td>\n",
       "      <td>../raw_data/UECFOOD100/1/3.jpg</td>\n",
       "    </tr>\n",
       "    <tr>\n",
       "      <th>3</th>\n",
       "      <td>4</td>\n",
       "      <td>1</td>\n",
       "      <td>0.0000</td>\n",
       "      <td>0.395000</td>\n",
       "      <td>0.35750</td>\n",
       "      <td>0.893333</td>\n",
       "      <td>../raw_data/UECFOOD100/1/4.jpg</td>\n",
       "    </tr>\n",
       "    <tr>\n",
       "      <th>4</th>\n",
       "      <td>5</td>\n",
       "      <td>1</td>\n",
       "      <td>0.0100</td>\n",
       "      <td>0.046667</td>\n",
       "      <td>0.95125</td>\n",
       "      <td>0.975000</td>\n",
       "      <td>../raw_data/UECFOOD100/1/5.jpg</td>\n",
       "    </tr>\n",
       "  </tbody>\n",
       "</table>\n",
       "</div>"
      ],
      "text/plain": [
       "   img_name  label  x1_norm   y1_norm  x2_norm   y2_norm  \\\n",
       "0         1      1   0.0000  0.238333  0.46250  0.810000   \n",
       "1         2      1   0.0250  0.346667  0.72750  0.931667   \n",
       "2         3      1   0.0025  0.183333  0.30375  0.683333   \n",
       "3         4      1   0.0000  0.395000  0.35750  0.893333   \n",
       "4         5      1   0.0100  0.046667  0.95125  0.975000   \n",
       "\n",
       "                            paths  \n",
       "0  ../raw_data/UECFOOD100/1/1.jpg  \n",
       "1  ../raw_data/UECFOOD100/1/2.jpg  \n",
       "2  ../raw_data/UECFOOD100/1/3.jpg  \n",
       "3  ../raw_data/UECFOOD100/1/4.jpg  \n",
       "4  ../raw_data/UECFOOD100/1/5.jpg  "
      ]
     },
     "execution_count": 11,
     "metadata": {},
     "output_type": "execute_result"
    }
   ],
   "source": [
    "rescaled_coord.head()"
   ]
  },
  {
   "cell_type": "markdown",
   "id": "9899d5df",
   "metadata": {},
   "source": [
    "### balancing Dataset"
   ]
  },
  {
   "cell_type": "code",
   "execution_count": 13,
   "id": "ae72b80a",
   "metadata": {},
   "outputs": [
    {
     "data": {
      "text/plain": [
       "(14611, 6)"
      ]
     },
     "execution_count": 13,
     "metadata": {},
     "output_type": "execute_result"
    }
   ],
   "source": [
    "coord.shape"
   ]
  },
  {
   "cell_type": "code",
   "execution_count": 14,
   "id": "d28a970b",
   "metadata": {},
   "outputs": [],
   "source": [
    "def rebalancing(df: pd.DataFrame, classes: list, av_number: int = 110, random_state: int = 1) -> pd.DataFrame:\n",
    "    df_new = df.copy()\n",
    "    for class_ in classes:\n",
    "        class_df = df_new[df_new['label'] == class_]\n",
    "        class_count = len(class_df)\n",
    "        if class_count > av_number:\n",
    "            drop_indices = np.random.choice(class_df.index, class_count - av_number, replace=False)\n",
    "            df_new = df_new.drop(drop_indices)\n",
    "        else:\n",
    "            pass\n",
    "    return df_new"
   ]
  },
  {
   "cell_type": "code",
   "execution_count": 15,
   "id": "1e3798c6",
   "metadata": {},
   "outputs": [],
   "source": [
    "classes = list(set(rescaled_coord.label))"
   ]
  },
  {
   "cell_type": "code",
   "execution_count": 16,
   "id": "cc00b4d9",
   "metadata": {},
   "outputs": [],
   "source": [
    "df = rebalancing(rescaled_coord, classes, av_number= 50, random_state=1)"
   ]
  },
  {
   "cell_type": "code",
   "execution_count": 17,
   "id": "39525791",
   "metadata": {},
   "outputs": [
    {
     "data": {
      "text/plain": [
       "(104, 7)"
      ]
     },
     "execution_count": 17,
     "metadata": {},
     "output_type": "execute_result"
    }
   ],
   "source": [
    "rescaled_coord[rescaled_coord['label']==100].shape"
   ]
  },
  {
   "cell_type": "code",
   "execution_count": 18,
   "id": "4fe18b6e",
   "metadata": {},
   "outputs": [
    {
     "data": {
      "text/plain": [
       "(50, 7)"
      ]
     },
     "execution_count": 18,
     "metadata": {},
     "output_type": "execute_result"
    }
   ],
   "source": [
    "df[df['label']==100].shape"
   ]
  },
  {
   "cell_type": "markdown",
   "id": "45d9d7b4",
   "metadata": {},
   "source": [
    "### load downscaled pictures into array"
   ]
  },
  {
   "cell_type": "code",
   "execution_count": 19,
   "id": "56915830",
   "metadata": {},
   "outputs": [
    {
     "name": "stderr",
     "output_type": "stream",
     "text": [
      "/Users/katharinarolfs/.pyenv/versions/3.10.6/envs/FoodScore/lib/python3.10/site-packages/tqdm/auto.py:21: TqdmWarning: IProgress not found. Please update jupyter and ipywidgets. See https://ipywidgets.readthedocs.io/en/stable/user_install.html\n",
      "  from .autonotebook import tqdm as notebook_tqdm\n"
     ]
    }
   ],
   "source": [
    "from tqdm.auto import tqdm"
   ]
  },
  {
   "cell_type": "code",
   "execution_count": 20,
   "id": "db22c3c8",
   "metadata": {},
   "outputs": [
    {
     "data": {
      "text/html": [
       "<div>\n",
       "<style scoped>\n",
       "    .dataframe tbody tr th:only-of-type {\n",
       "        vertical-align: middle;\n",
       "    }\n",
       "\n",
       "    .dataframe tbody tr th {\n",
       "        vertical-align: top;\n",
       "    }\n",
       "\n",
       "    .dataframe thead th {\n",
       "        text-align: right;\n",
       "    }\n",
       "</style>\n",
       "<table border=\"1\" class=\"dataframe\">\n",
       "  <thead>\n",
       "    <tr style=\"text-align: right;\">\n",
       "      <th></th>\n",
       "      <th>img_name</th>\n",
       "      <th>label</th>\n",
       "      <th>x1_norm</th>\n",
       "      <th>y1_norm</th>\n",
       "      <th>x2_norm</th>\n",
       "      <th>y2_norm</th>\n",
       "      <th>paths</th>\n",
       "    </tr>\n",
       "  </thead>\n",
       "  <tbody>\n",
       "    <tr>\n",
       "      <th>0</th>\n",
       "      <td>1</td>\n",
       "      <td>1</td>\n",
       "      <td>0.000</td>\n",
       "      <td>0.238333</td>\n",
       "      <td>0.4625</td>\n",
       "      <td>0.810000</td>\n",
       "      <td>../raw_data/UECFOOD100/1/1.jpg</td>\n",
       "    </tr>\n",
       "    <tr>\n",
       "      <th>12</th>\n",
       "      <td>14</td>\n",
       "      <td>1</td>\n",
       "      <td>0.000</td>\n",
       "      <td>0.561667</td>\n",
       "      <td>0.3000</td>\n",
       "      <td>1.000000</td>\n",
       "      <td>../raw_data/UECFOOD100/1/14.jpg</td>\n",
       "    </tr>\n",
       "    <tr>\n",
       "      <th>20</th>\n",
       "      <td>24</td>\n",
       "      <td>1</td>\n",
       "      <td>0.000</td>\n",
       "      <td>0.266910</td>\n",
       "      <td>1.0000</td>\n",
       "      <td>1.000000</td>\n",
       "      <td>../raw_data/UECFOOD100/1/24.jpg</td>\n",
       "    </tr>\n",
       "    <tr>\n",
       "      <th>24</th>\n",
       "      <td>28</td>\n",
       "      <td>1</td>\n",
       "      <td>0.022</td>\n",
       "      <td>0.402985</td>\n",
       "      <td>0.3600</td>\n",
       "      <td>0.785075</td>\n",
       "      <td>../raw_data/UECFOOD100/1/28.jpg</td>\n",
       "    </tr>\n",
       "    <tr>\n",
       "      <th>30</th>\n",
       "      <td>35</td>\n",
       "      <td>1</td>\n",
       "      <td>0.536</td>\n",
       "      <td>0.346667</td>\n",
       "      <td>0.9740</td>\n",
       "      <td>0.936000</td>\n",
       "      <td>../raw_data/UECFOOD100/1/35.jpg</td>\n",
       "    </tr>\n",
       "  </tbody>\n",
       "</table>\n",
       "</div>"
      ],
      "text/plain": [
       "    img_name  label  x1_norm   y1_norm  x2_norm   y2_norm  \\\n",
       "0          1      1    0.000  0.238333   0.4625  0.810000   \n",
       "12        14      1    0.000  0.561667   0.3000  1.000000   \n",
       "20        24      1    0.000  0.266910   1.0000  1.000000   \n",
       "24        28      1    0.022  0.402985   0.3600  0.785075   \n",
       "30        35      1    0.536  0.346667   0.9740  0.936000   \n",
       "\n",
       "                              paths  \n",
       "0    ../raw_data/UECFOOD100/1/1.jpg  \n",
       "12  ../raw_data/UECFOOD100/1/14.jpg  \n",
       "20  ../raw_data/UECFOOD100/1/24.jpg  \n",
       "24  ../raw_data/UECFOOD100/1/28.jpg  \n",
       "30  ../raw_data/UECFOOD100/1/35.jpg  "
      ]
     },
     "execution_count": 20,
     "metadata": {},
     "output_type": "execute_result"
    }
   ],
   "source": [
    "df.head()"
   ]
  },
  {
   "cell_type": "code",
   "execution_count": 21,
   "id": "fa041e32",
   "metadata": {},
   "outputs": [
    {
     "data": {
      "text/html": [
       "<div>\n",
       "<style scoped>\n",
       "    .dataframe tbody tr th:only-of-type {\n",
       "        vertical-align: middle;\n",
       "    }\n",
       "\n",
       "    .dataframe tbody tr th {\n",
       "        vertical-align: top;\n",
       "    }\n",
       "\n",
       "    .dataframe thead th {\n",
       "        text-align: right;\n",
       "    }\n",
       "</style>\n",
       "<table border=\"1\" class=\"dataframe\">\n",
       "  <thead>\n",
       "    <tr style=\"text-align: right;\">\n",
       "      <th></th>\n",
       "      <th>img_name</th>\n",
       "      <th>label</th>\n",
       "      <th>x1_norm</th>\n",
       "      <th>y1_norm</th>\n",
       "      <th>x2_norm</th>\n",
       "      <th>y2_norm</th>\n",
       "      <th>paths</th>\n",
       "    </tr>\n",
       "  </thead>\n",
       "  <tbody>\n",
       "    <tr>\n",
       "      <th>5049</th>\n",
       "      <td>2997</td>\n",
       "      <td>31</td>\n",
       "      <td>0.137500</td>\n",
       "      <td>0.012500</td>\n",
       "      <td>0.945312</td>\n",
       "      <td>0.791667</td>\n",
       "      <td>../raw_data/UECFOOD100/31/2997.jpg</td>\n",
       "    </tr>\n",
       "    <tr>\n",
       "      <th>8243</th>\n",
       "      <td>5266</td>\n",
       "      <td>52</td>\n",
       "      <td>0.264444</td>\n",
       "      <td>0.000000</td>\n",
       "      <td>1.000000</td>\n",
       "      <td>0.700000</td>\n",
       "      <td>../raw_data/UECFOOD100/52/5266.jpg</td>\n",
       "    </tr>\n",
       "    <tr>\n",
       "      <th>8384</th>\n",
       "      <td>5397</td>\n",
       "      <td>54</td>\n",
       "      <td>0.170000</td>\n",
       "      <td>0.012285</td>\n",
       "      <td>0.814000</td>\n",
       "      <td>0.800983</td>\n",
       "      <td>../raw_data/UECFOOD100/54/5397.jpg</td>\n",
       "    </tr>\n",
       "    <tr>\n",
       "      <th>3632</th>\n",
       "      <td>2114</td>\n",
       "      <td>22</td>\n",
       "      <td>0.369650</td>\n",
       "      <td>0.000000</td>\n",
       "      <td>1.000000</td>\n",
       "      <td>1.000000</td>\n",
       "      <td>../raw_data/UECFOOD100/22/2114.jpg</td>\n",
       "    </tr>\n",
       "    <tr>\n",
       "      <th>2549</th>\n",
       "      <td>1410</td>\n",
       "      <td>15</td>\n",
       "      <td>0.000000</td>\n",
       "      <td>0.000000</td>\n",
       "      <td>0.795556</td>\n",
       "      <td>1.000000</td>\n",
       "      <td>../raw_data/UECFOOD100/15/1410.jpg</td>\n",
       "    </tr>\n",
       "  </tbody>\n",
       "</table>\n",
       "</div>"
      ],
      "text/plain": [
       "      img_name  label   x1_norm   y1_norm   x2_norm   y2_norm  \\\n",
       "5049      2997     31  0.137500  0.012500  0.945312  0.791667   \n",
       "8243      5266     52  0.264444  0.000000  1.000000  0.700000   \n",
       "8384      5397     54  0.170000  0.012285  0.814000  0.800983   \n",
       "3632      2114     22  0.369650  0.000000  1.000000  1.000000   \n",
       "2549      1410     15  0.000000  0.000000  0.795556  1.000000   \n",
       "\n",
       "                                   paths  \n",
       "5049  ../raw_data/UECFOOD100/31/2997.jpg  \n",
       "8243  ../raw_data/UECFOOD100/52/5266.jpg  \n",
       "8384  ../raw_data/UECFOOD100/54/5397.jpg  \n",
       "3632  ../raw_data/UECFOOD100/22/2114.jpg  \n",
       "2549  ../raw_data/UECFOOD100/15/1410.jpg  "
      ]
     },
     "execution_count": 21,
     "metadata": {},
     "output_type": "execute_result"
    }
   ],
   "source": [
    "df_shuffled = df.sample(frac=1, random_state=42)\n",
    "df_shuffled.head()"
   ]
  },
  {
   "cell_type": "code",
   "execution_count": 42,
   "id": "c26db844",
   "metadata": {},
   "outputs": [],
   "source": [
    "df_shuffled.to_csv('df_shuffled.csv')"
   ]
  },
  {
   "cell_type": "code",
   "execution_count": 23,
   "id": "1ca9c622",
   "metadata": {},
   "outputs": [
    {
     "name": "stderr",
     "output_type": "stream",
     "text": [
      "100%|██████████████████████████████████████| 5000/5000 [00:23<00:00, 217.08it/s]\n"
     ]
    }
   ],
   "source": [
    "color_order = \"BGR\"\n",
    "dims = (224,224)\n",
    "\n",
    "images = np.empty((len(df_shuffled), dims[0], dims[1], 3), dtype=np.float32)\n",
    "\n",
    "for i, path in enumerate(tqdm(df_shuffled.paths.values)):\n",
    "    img = cv2.imread(path)\n",
    "    img = cv2.resize(img, dims, interpolation=cv2.INTER_AREA)\n",
    "    if color_order == \"RGB\":\n",
    "        img = img[:,:,::-1]\n",
    "    images[i, :, :, :] = img/255"
   ]
  },
  {
   "cell_type": "code",
   "execution_count": 41,
   "id": "284fcb6d",
   "metadata": {},
   "outputs": [],
   "source": [
    "np.savez_compressed('imgs_100.npz', images)\n"
   ]
  },
  {
   "cell_type": "code",
   "execution_count": 24,
   "id": "15e83bfb",
   "metadata": {},
   "outputs": [],
   "source": [
    "labels = np.array(df_shuffled.label)\n",
    "bboxes = np.array(df_shuffled[['x1_norm','y1_norm','x2_norm','y2_norm']], dtype=\"float32\")\n",
    "paths = np.array(df_shuffled.paths)"
   ]
  },
  {
   "cell_type": "code",
   "execution_count": 25,
   "id": "b19a9745",
   "metadata": {},
   "outputs": [],
   "source": [
    "lb = LabelBinarizer()\n",
    "labels = lb.fit_transform(labels)"
   ]
  },
  {
   "cell_type": "code",
   "execution_count": 26,
   "id": "3e6c6de4",
   "metadata": {},
   "outputs": [],
   "source": [
    "if len(lb.classes_) == 2:\n",
    "    print(\"two classes\")\n",
    "    labels = to_categorical(labels)"
   ]
  },
  {
   "cell_type": "code",
   "execution_count": 27,
   "id": "95feb83f",
   "metadata": {},
   "outputs": [
    {
     "data": {
      "text/plain": [
       "100"
      ]
     },
     "execution_count": 27,
     "metadata": {},
     "output_type": "execute_result"
    }
   ],
   "source": [
    "len(set(df_shuffled.label))"
   ]
  },
  {
   "cell_type": "code",
   "execution_count": 28,
   "id": "0dc32e91",
   "metadata": {},
   "outputs": [],
   "source": [
    "tvImages, testImages,tvLabels, testLabels =\\\n",
    "train_test_split(images,\n",
    "                 labels,\n",
    "                 test_size=0.20,\n",
    "                 random_state=42)"
   ]
  },
  {
   "cell_type": "code",
   "execution_count": 29,
   "id": "2d826c9d",
   "metadata": {},
   "outputs": [],
   "source": [
    "trainImages, valImages,trainLabels, valLabels=\\\n",
    "train_test_split(tvImages,\n",
    "                 tvLabels,\n",
    "                 test_size=0.20,\n",
    "                 random_state=42)"
   ]
  },
  {
   "cell_type": "markdown",
   "id": "07fe1a9f-1438-435d-9213-e415e737e2ce",
   "metadata": {},
   "source": [
    "## Model"
   ]
  },
  {
   "cell_type": "code",
   "execution_count": 30,
   "id": "91a6307a-e215-46f3-9d95-38b04d28e486",
   "metadata": {
    "tags": []
   },
   "outputs": [],
   "source": [
    "vgg = VGG16(weights=\"imagenet\",\n",
    "            include_top=False,\n",
    "            input_tensor=layers.Input(shape=(224, 224, 3)))\n",
    "\n",
    "\n",
    "vgg.trainable = False\n",
    "\n",
    "flatten = vgg.output\n",
    "flatten = layers.Flatten()(flatten)\n",
    "\n",
    "softmaxHead = layers.Dense(512, activation=\"relu\")(flatten)\n",
    "softmaxHead = layers.Dropout(0.5)(softmaxHead)\n",
    "softmaxHead = layers.Dense(512, activation=\"relu\")(softmaxHead)\n",
    "softmaxHead = layers.Dropout(0.5)(softmaxHead)\n",
    "softmaxHead = layers.Dense(len(set(df_shuffled.label)), activation=\"softmax\", name=\"class_label\")(softmaxHead)\n"
   ]
  },
  {
   "cell_type": "code",
   "execution_count": 31,
   "id": "baae9df2",
   "metadata": {},
   "outputs": [],
   "source": [
    "model = Model(\n",
    "    inputs=vgg.input,\n",
    "    outputs=(softmaxHead))"
   ]
  },
  {
   "cell_type": "code",
   "execution_count": 32,
   "id": "bcc0bcf5-27a3-40ad-afff-a866e4968c7a",
   "metadata": {
    "tags": []
   },
   "outputs": [],
   "source": [
    "losses = {\n",
    "    \"class_label\": 'categorical_crossentropy',}"
   ]
  },
  {
   "cell_type": "code",
   "execution_count": 33,
   "id": "f310cfdc-d5d4-44a6-bb08-0a1c8bb5a50f",
   "metadata": {
    "tags": []
   },
   "outputs": [],
   "source": [
    "lossWeights = {\n",
    "    \"class_label\": 1.0,}"
   ]
  },
  {
   "cell_type": "code",
   "execution_count": 34,
   "id": "28703d3b-b0d6-4531-84a4-570bf5d9478d",
   "metadata": {
    "tags": []
   },
   "outputs": [],
   "source": [
    "trainTargets = {\n",
    "    \"class_label\": trainLabels,}"
   ]
  },
  {
   "cell_type": "code",
   "execution_count": 35,
   "id": "69a31368-8f9e-4eec-9464-80a9b6ff156c",
   "metadata": {
    "tags": []
   },
   "outputs": [],
   "source": [
    "testTargets = {\n",
    "    \"class_label\": testLabels,}"
   ]
  },
  {
   "cell_type": "code",
   "execution_count": 36,
   "id": "b779d978",
   "metadata": {},
   "outputs": [],
   "source": [
    "valTargets = {\n",
    "    \"class_label\": valLabels,}"
   ]
  },
  {
   "cell_type": "code",
   "execution_count": 37,
   "id": "abbf8942-5e42-44b6-a1d2-ade79a97f7c2",
   "metadata": {
    "tags": []
   },
   "outputs": [],
   "source": [
    "metrics = {\n",
    "    \"class_label\": \"categorical_accuracy\",}"
   ]
  },
  {
   "cell_type": "code",
   "execution_count": 38,
   "id": "466bd563-30fe-4ae0-9e07-bb7a43f1d984",
   "metadata": {
    "tags": []
   },
   "outputs": [
    {
     "name": "stdout",
     "output_type": "stream",
     "text": [
      "Model: \"model\"\n",
      "_________________________________________________________________\n",
      " Layer (type)                Output Shape              Param #   \n",
      "=================================================================\n",
      " input_1 (InputLayer)        [(None, 224, 224, 3)]     0         \n",
      "                                                                 \n",
      " block1_conv1 (Conv2D)       (None, 224, 224, 64)      1792      \n",
      "                                                                 \n",
      " block1_conv2 (Conv2D)       (None, 224, 224, 64)      36928     \n",
      "                                                                 \n",
      " block1_pool (MaxPooling2D)  (None, 112, 112, 64)      0         \n",
      "                                                                 \n",
      " block2_conv1 (Conv2D)       (None, 112, 112, 128)     73856     \n",
      "                                                                 \n",
      " block2_conv2 (Conv2D)       (None, 112, 112, 128)     147584    \n",
      "                                                                 \n",
      " block2_pool (MaxPooling2D)  (None, 56, 56, 128)       0         \n",
      "                                                                 \n",
      " block3_conv1 (Conv2D)       (None, 56, 56, 256)       295168    \n",
      "                                                                 \n",
      " block3_conv2 (Conv2D)       (None, 56, 56, 256)       590080    \n",
      "                                                                 \n",
      " block3_conv3 (Conv2D)       (None, 56, 56, 256)       590080    \n",
      "                                                                 \n",
      " block3_pool (MaxPooling2D)  (None, 28, 28, 256)       0         \n",
      "                                                                 \n",
      " block4_conv1 (Conv2D)       (None, 28, 28, 512)       1180160   \n",
      "                                                                 \n",
      " block4_conv2 (Conv2D)       (None, 28, 28, 512)       2359808   \n",
      "                                                                 \n",
      " block4_conv3 (Conv2D)       (None, 28, 28, 512)       2359808   \n",
      "                                                                 \n",
      " block4_pool (MaxPooling2D)  (None, 14, 14, 512)       0         \n",
      "                                                                 \n",
      " block5_conv1 (Conv2D)       (None, 14, 14, 512)       2359808   \n",
      "                                                                 \n",
      " block5_conv2 (Conv2D)       (None, 14, 14, 512)       2359808   \n",
      "                                                                 \n",
      " block5_conv3 (Conv2D)       (None, 14, 14, 512)       2359808   \n",
      "                                                                 \n",
      " block5_pool (MaxPooling2D)  (None, 7, 7, 512)         0         \n",
      "                                                                 \n",
      " flatten (Flatten)           (None, 25088)             0         \n",
      "                                                                 \n",
      " dense (Dense)               (None, 512)               12845568  \n",
      "                                                                 \n",
      " dropout (Dropout)           (None, 512)               0         \n",
      "                                                                 \n",
      " dense_1 (Dense)             (None, 512)               262656    \n",
      "                                                                 \n",
      " dropout_1 (Dropout)         (None, 512)               0         \n",
      "                                                                 \n",
      " class_label (Dense)         (None, 100)               51300     \n",
      "                                                                 \n",
      "=================================================================\n",
      "Total params: 27,874,212\n",
      "Trainable params: 13,159,524\n",
      "Non-trainable params: 14,714,688\n",
      "_________________________________________________________________\n",
      "None\n"
     ]
    }
   ],
   "source": [
    "opt = Adam(0.001)\n",
    "\n",
    "\n",
    "model.compile(loss=losses, \n",
    "              optimizer=opt, \n",
    "              metrics=metrics, \n",
    "              loss_weights=lossWeights)\n",
    "\n",
    "print(model.summary())"
   ]
  },
  {
   "cell_type": "code",
   "execution_count": 39,
   "id": "61ba612d",
   "metadata": {},
   "outputs": [],
   "source": [
    "es = EarlyStopping(monitor = 'loss',\n",
    "                   patience = 5,\n",
    "                   verbose = 0,\n",
    "                   restore_best_weights = True)"
   ]
  },
  {
   "cell_type": "code",
   "execution_count": 43,
   "id": "03f2bf9b",
   "metadata": {},
   "outputs": [],
   "source": [
    "from datetime import datetime\n",
    "import keras\n",
    "logdir = \"logs/\" + datetime.now().strftime(\"%Y%m%d-%H%M%S\")\n",
    "tensorboard_callback = keras.callbacks.TensorBoard(log_dir=logdir)"
   ]
  },
  {
   "cell_type": "code",
   "execution_count": 44,
   "id": "5ac2155e",
   "metadata": {},
   "outputs": [
    {
     "name": "stdout",
     "output_type": "stream",
     "text": [
      "Epoch 1/1000\n",
      "100/100 [==============================] - 419s 4s/step - loss: 4.5880 - categorical_accuracy: 0.0162 - val_loss: 4.5974 - val_categorical_accuracy: 0.0100\n",
      "Epoch 2/1000\n",
      "100/100 [==============================] - 422s 4s/step - loss: 4.5491 - categorical_accuracy: 0.0178 - val_loss: 4.5531 - val_categorical_accuracy: 0.0175\n",
      "Epoch 3/1000\n",
      "100/100 [==============================] - 417s 4s/step - loss: 4.5363 - categorical_accuracy: 0.0191 - val_loss: 4.4964 - val_categorical_accuracy: 0.0213\n",
      "Epoch 4/1000\n",
      "100/100 [==============================] - 412s 4s/step - loss: 4.4975 - categorical_accuracy: 0.0209 - val_loss: 4.5192 - val_categorical_accuracy: 0.0250\n",
      "Epoch 5/1000\n",
      "100/100 [==============================] - 416s 4s/step - loss: 4.4789 - categorical_accuracy: 0.0234 - val_loss: 4.5025 - val_categorical_accuracy: 0.0162\n",
      "Epoch 6/1000\n",
      "100/100 [==============================] - 414s 4s/step - loss: 4.4506 - categorical_accuracy: 0.0222 - val_loss: 4.4453 - val_categorical_accuracy: 0.0175\n",
      "Epoch 7/1000\n",
      "100/100 [==============================] - 415s 4s/step - loss: 4.4557 - categorical_accuracy: 0.0247 - val_loss: 4.4220 - val_categorical_accuracy: 0.0262\n",
      "Epoch 8/1000\n",
      "100/100 [==============================] - 414s 4s/step - loss: 4.4380 - categorical_accuracy: 0.0266 - val_loss: 4.4314 - val_categorical_accuracy: 0.0275\n",
      "Epoch 9/1000\n",
      "100/100 [==============================] - 416s 4s/step - loss: 4.4181 - categorical_accuracy: 0.0256 - val_loss: 4.4518 - val_categorical_accuracy: 0.0275\n",
      "Epoch 10/1000\n",
      "100/100 [==============================] - 418s 4s/step - loss: 4.3777 - categorical_accuracy: 0.0325 - val_loss: 4.4326 - val_categorical_accuracy: 0.0275\n",
      "Epoch 11/1000\n",
      "100/100 [==============================] - 417s 4s/step - loss: 4.3643 - categorical_accuracy: 0.0344 - val_loss: 4.3488 - val_categorical_accuracy: 0.0250\n",
      "Epoch 12/1000\n",
      "100/100 [==============================] - 418s 4s/step - loss: 4.3616 - categorical_accuracy: 0.0294 - val_loss: 4.4296 - val_categorical_accuracy: 0.0275\n",
      "Epoch 13/1000\n",
      "100/100 [==============================] - 417s 4s/step - loss: 4.3498 - categorical_accuracy: 0.0319 - val_loss: 4.4007 - val_categorical_accuracy: 0.0213\n",
      "Epoch 14/1000\n",
      "100/100 [==============================] - 417s 4s/step - loss: 4.3314 - categorical_accuracy: 0.0353 - val_loss: 4.3695 - val_categorical_accuracy: 0.0275\n",
      "Epoch 15/1000\n",
      "100/100 [==============================] - 413s 4s/step - loss: 4.3234 - categorical_accuracy: 0.0294 - val_loss: 4.3679 - val_categorical_accuracy: 0.0188\n",
      "Epoch 16/1000\n",
      "100/100 [==============================] - 413s 4s/step - loss: 4.3019 - categorical_accuracy: 0.0306 - val_loss: 4.3573 - val_categorical_accuracy: 0.0325\n",
      "Epoch 17/1000\n",
      "100/100 [==============================] - 414s 4s/step - loss: 4.3154 - categorical_accuracy: 0.0322 - val_loss: 4.3590 - val_categorical_accuracy: 0.0237\n",
      "Epoch 18/1000\n",
      "100/100 [==============================] - 423s 4s/step - loss: 4.2701 - categorical_accuracy: 0.0322 - val_loss: 4.3173 - val_categorical_accuracy: 0.0262\n",
      "Epoch 19/1000\n",
      "100/100 [==============================] - 417s 4s/step - loss: 4.2569 - categorical_accuracy: 0.0309 - val_loss: 4.3297 - val_categorical_accuracy: 0.0262\n",
      "Epoch 20/1000\n",
      "100/100 [==============================] - 416s 4s/step - loss: 4.2565 - categorical_accuracy: 0.0331 - val_loss: 4.3054 - val_categorical_accuracy: 0.0275\n",
      "Epoch 21/1000\n",
      "100/100 [==============================] - 415s 4s/step - loss: 4.2444 - categorical_accuracy: 0.0381 - val_loss: 4.2826 - val_categorical_accuracy: 0.0213\n",
      "Epoch 22/1000\n",
      "100/100 [==============================] - 414s 4s/step - loss: 4.2396 - categorical_accuracy: 0.0344 - val_loss: 4.2965 - val_categorical_accuracy: 0.0213\n",
      "Epoch 23/1000\n",
      "100/100 [==============================] - 415s 4s/step - loss: 4.2412 - categorical_accuracy: 0.0325 - val_loss: 4.2849 - val_categorical_accuracy: 0.0325\n",
      "Epoch 24/1000\n",
      "100/100 [==============================] - 415s 4s/step - loss: 4.1942 - categorical_accuracy: 0.0394 - val_loss: 4.2617 - val_categorical_accuracy: 0.0325\n",
      "Epoch 25/1000\n",
      "100/100 [==============================] - 416s 4s/step - loss: 4.1899 - categorical_accuracy: 0.0394 - val_loss: 4.2751 - val_categorical_accuracy: 0.0325\n",
      "Epoch 26/1000\n",
      "100/100 [==============================] - 416s 4s/step - loss: 4.1891 - categorical_accuracy: 0.0372 - val_loss: 4.2682 - val_categorical_accuracy: 0.0338\n",
      "Epoch 27/1000\n",
      "100/100 [==============================] - 416s 4s/step - loss: 4.1689 - categorical_accuracy: 0.0391 - val_loss: 4.2735 - val_categorical_accuracy: 0.0338\n",
      "Epoch 28/1000\n",
      "100/100 [==============================] - 418s 4s/step - loss: 4.1815 - categorical_accuracy: 0.0319 - val_loss: 4.2609 - val_categorical_accuracy: 0.0312\n",
      "Epoch 29/1000\n",
      "100/100 [==============================] - 415s 4s/step - loss: 4.1998 - categorical_accuracy: 0.0369 - val_loss: 4.2579 - val_categorical_accuracy: 0.0325\n",
      "Epoch 30/1000\n",
      "100/100 [==============================] - 515s 5s/step - loss: 4.1286 - categorical_accuracy: 0.0384 - val_loss: 4.2475 - val_categorical_accuracy: 0.0325\n",
      "Epoch 31/1000\n",
      "100/100 [==============================] - 651s 7s/step - loss: 4.1540 - categorical_accuracy: 0.0362 - val_loss: 4.2696 - val_categorical_accuracy: 0.0338\n",
      "Epoch 32/1000\n",
      "100/100 [==============================] - 589s 6s/step - loss: 4.1512 - categorical_accuracy: 0.0431 - val_loss: 4.2661 - val_categorical_accuracy: 0.0275\n",
      "Epoch 33/1000\n",
      "100/100 [==============================] - 584s 6s/step - loss: 4.1423 - categorical_accuracy: 0.0447 - val_loss: 4.2433 - val_categorical_accuracy: 0.0350\n",
      "Epoch 34/1000\n",
      "100/100 [==============================] - 588s 6s/step - loss: 4.1151 - categorical_accuracy: 0.0475 - val_loss: 4.2662 - val_categorical_accuracy: 0.0375\n",
      "Epoch 35/1000\n",
      "100/100 [==============================] - 564s 6s/step - loss: 4.1299 - categorical_accuracy: 0.0409 - val_loss: 4.2609 - val_categorical_accuracy: 0.0338\n",
      "Epoch 36/1000\n",
      "100/100 [==============================] - 519s 5s/step - loss: 4.0914 - categorical_accuracy: 0.0419 - val_loss: 4.2653 - val_categorical_accuracy: 0.0288\n",
      "Epoch 37/1000\n",
      "100/100 [==============================] - 464s 5s/step - loss: 4.1216 - categorical_accuracy: 0.0413 - val_loss: 4.2488 - val_categorical_accuracy: 0.0325\n",
      "Epoch 38/1000\n",
      "100/100 [==============================] - 451s 5s/step - loss: 4.1388 - categorical_accuracy: 0.0400 - val_loss: 4.2514 - val_categorical_accuracy: 0.0362\n",
      "Epoch 39/1000\n",
      "100/100 [==============================] - 451s 5s/step - loss: 4.0978 - categorical_accuracy: 0.0434 - val_loss: 4.2534 - val_categorical_accuracy: 0.0375\n",
      "Epoch 40/1000\n",
      "100/100 [==============================] - 453s 5s/step - loss: 4.1129 - categorical_accuracy: 0.0459 - val_loss: 4.2571 - val_categorical_accuracy: 0.0400\n",
      "Epoch 41/1000\n",
      "100/100 [==============================] - 456s 5s/step - loss: 4.0650 - categorical_accuracy: 0.0487 - val_loss: 4.2704 - val_categorical_accuracy: 0.0338\n",
      "Epoch 42/1000\n",
      "100/100 [==============================] - 457s 5s/step - loss: 4.0797 - categorical_accuracy: 0.0469 - val_loss: 4.2625 - val_categorical_accuracy: 0.0388\n",
      "Epoch 43/1000\n",
      "100/100 [==============================] - 468s 5s/step - loss: 4.0967 - categorical_accuracy: 0.0459 - val_loss: 4.2822 - val_categorical_accuracy: 0.0425\n",
      "Epoch 44/1000\n",
      "100/100 [==============================] - 465s 5s/step - loss: 4.0830 - categorical_accuracy: 0.0487 - val_loss: 4.2542 - val_categorical_accuracy: 0.0350\n",
      "Epoch 45/1000\n",
      "100/100 [==============================] - 462s 5s/step - loss: 4.0819 - categorical_accuracy: 0.0509 - val_loss: 4.2786 - val_categorical_accuracy: 0.0388\n",
      "Epoch 46/1000\n",
      "100/100 [==============================] - 453s 5s/step - loss: 4.0713 - categorical_accuracy: 0.0494 - val_loss: 4.2825 - val_categorical_accuracy: 0.0325\n"
     ]
    }
   ],
   "source": [
    "history_100_label_only = model.fit(\n",
    "    trainImages,\n",
    "    trainTargets,\n",
    "    validation_data=(valImages, valTargets),\n",
    "    batch_size=32,\n",
    "    epochs=1000,\n",
    "    verbose=1,\n",
    "    callbacks = [es, tensorboard_callback],\n",
    "    )"
   ]
  },
  {
   "cell_type": "markdown",
   "id": "fcf212ca",
   "metadata": {},
   "source": [
    "## Save model"
   ]
  },
  {
   "cell_type": "code",
   "execution_count": null,
   "id": "8bc21d15",
   "metadata": {},
   "outputs": [],
   "source": [
    "# VGG16\n",
    "\n",
    "pickle.dump(model, open('vgg16_100classes_50imgs.pkl', 'wb'))"
   ]
  },
  {
   "cell_type": "code",
   "execution_count": null,
   "id": "34c3e7a6",
   "metadata": {},
   "outputs": [],
   "source": []
  }
 ],
 "metadata": {
  "kernelspec": {
   "display_name": "Python 3 (ipykernel)",
   "language": "python",
   "name": "python3"
  },
  "language_info": {
   "codemirror_mode": {
    "name": "ipython",
    "version": 3
   },
   "file_extension": ".py",
   "mimetype": "text/x-python",
   "name": "python",
   "nbconvert_exporter": "python",
   "pygments_lexer": "ipython3",
   "version": "3.10.6"
  },
  "toc": {
   "base_numbering": 1,
   "nav_menu": {},
   "number_sections": true,
   "sideBar": true,
   "skip_h1_title": false,
   "title_cell": "Table of Contents",
   "title_sidebar": "Contents",
   "toc_cell": false,
   "toc_position": {},
   "toc_section_display": true,
   "toc_window_display": false
  },
  "varInspector": {
   "cols": {
    "lenName": 16,
    "lenType": 16,
    "lenVar": 40
   },
   "kernels_config": {
    "python": {
     "delete_cmd_postfix": "",
     "delete_cmd_prefix": "del ",
     "library": "var_list.py",
     "varRefreshCmd": "print(var_dic_list())"
    },
    "r": {
     "delete_cmd_postfix": ") ",
     "delete_cmd_prefix": "rm(",
     "library": "var_list.r",
     "varRefreshCmd": "cat(var_dic_list()) "
    }
   },
   "types_to_exclude": [
    "module",
    "function",
    "builtin_function_or_method",
    "instance",
    "_Feature"
   ],
   "window_display": false
  }
 },
 "nbformat": 4,
 "nbformat_minor": 5
}

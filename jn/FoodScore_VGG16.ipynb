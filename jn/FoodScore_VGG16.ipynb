{
 "cells": [
  {
   "cell_type": "markdown",
   "id": "7ac0e704",
   "metadata": {},
   "source": [
    "## Libraries\n"
   ]
  },
  {
   "cell_type": "code",
   "execution_count": null,
   "id": "dc95e076",
   "metadata": {},
   "outputs": [],
   "source": [
    "# !pip install -r ~/code/benitomartin/FoodScore/requirements.txt"
   ]
  },
  {
   "cell_type": "code",
   "execution_count": 1,
   "id": "239df9e4",
   "metadata": {},
   "outputs": [],
   "source": [
    "import os\n",
    "import cv2\n",
    "import numpy as np\n",
    "import pandas as pd\n",
    "\n",
    "import matplotlib.pyplot as plt\n",
    "from sklearn.model_selection import train_test_split\n",
    "\n",
    "from tensorflow.keras import layers \n",
    "from tensorflow.keras import Model \n",
    "from tensorflow.keras.optimizers import Adam\n",
    "from tensorflow.keras.preprocessing import image \n",
    "from tensorflow.keras.applications import VGG16\n",
    "from tensorflow.keras.utils import load_img, img_to_array, to_categorical, image_dataset_from_directory\n",
    "from sklearn.preprocessing import LabelEncoder, LabelBinarizer\n",
    "from tensorflow.keras import losses\n",
    "from tensorflow.keras.callbacks import EarlyStopping\n",
    "from tensorflow.keras.metrics import MeanIoU\n",
    "\n",
    "\n",
    "import pickle"
   ]
  },
  {
   "cell_type": "markdown",
   "id": "bb34a40c",
   "metadata": {},
   "source": [
    "## Data import"
   ]
  },
  {
   "cell_type": "code",
   "execution_count": 2,
   "id": "663db74f",
   "metadata": {},
   "outputs": [],
   "source": [
    "coord = pd.DataFrame()\n",
    "\n",
    "for i in range(1, 257, 1):\n",
    "    path = f\"../raw_data/UECFOOD256/{i}\"\n",
    "    data = pd.read_csv(f\"{path}/bb_info.txt\", sep=' ', header=0, index_col=\"img\")\n",
    "    data_df = pd.DataFrame(data)\n",
    "    data_df[\"label\"] = i\n",
    "    coord = pd.concat([coord, data_df])\n",
    "    \n"
   ]
  },
  {
   "cell_type": "code",
   "execution_count": 3,
   "id": "8453bbd2",
   "metadata": {},
   "outputs": [],
   "source": [
    "coord = coord.reset_index()"
   ]
  },
  {
   "cell_type": "markdown",
   "id": "ec4fc37a",
   "metadata": {},
   "source": [
    "### DataFrame with label and coordinates"
   ]
  },
  {
   "cell_type": "code",
   "execution_count": 4,
   "id": "ae72b80a",
   "metadata": {},
   "outputs": [
    {
     "data": {
      "text/plain": [
       "(31645, 6)"
      ]
     },
     "execution_count": 4,
     "metadata": {},
     "output_type": "execute_result"
    }
   ],
   "source": [
    "coord.shape"
   ]
  },
  {
   "cell_type": "code",
   "execution_count": 5,
   "id": "8ac6a2fe",
   "metadata": {},
   "outputs": [
    {
     "data": {
      "text/html": [
       "<div>\n",
       "<style scoped>\n",
       "    .dataframe tbody tr th:only-of-type {\n",
       "        vertical-align: middle;\n",
       "    }\n",
       "\n",
       "    .dataframe tbody tr th {\n",
       "        vertical-align: top;\n",
       "    }\n",
       "\n",
       "    .dataframe thead th {\n",
       "        text-align: right;\n",
       "    }\n",
       "</style>\n",
       "<table border=\"1\" class=\"dataframe\">\n",
       "  <thead>\n",
       "    <tr style=\"text-align: right;\">\n",
       "      <th></th>\n",
       "      <th>img</th>\n",
       "      <th>x1</th>\n",
       "      <th>y1</th>\n",
       "      <th>x2</th>\n",
       "      <th>y2</th>\n",
       "      <th>label</th>\n",
       "    </tr>\n",
       "  </thead>\n",
       "  <tbody>\n",
       "    <tr>\n",
       "      <th>0</th>\n",
       "      <td>1</td>\n",
       "      <td>0</td>\n",
       "      <td>143</td>\n",
       "      <td>370</td>\n",
       "      <td>486</td>\n",
       "      <td>1</td>\n",
       "    </tr>\n",
       "    <tr>\n",
       "      <th>1</th>\n",
       "      <td>2</td>\n",
       "      <td>20</td>\n",
       "      <td>208</td>\n",
       "      <td>582</td>\n",
       "      <td>559</td>\n",
       "      <td>1</td>\n",
       "    </tr>\n",
       "    <tr>\n",
       "      <th>2</th>\n",
       "      <td>3</td>\n",
       "      <td>2</td>\n",
       "      <td>110</td>\n",
       "      <td>243</td>\n",
       "      <td>410</td>\n",
       "      <td>1</td>\n",
       "    </tr>\n",
       "    <tr>\n",
       "      <th>3</th>\n",
       "      <td>4</td>\n",
       "      <td>0</td>\n",
       "      <td>237</td>\n",
       "      <td>286</td>\n",
       "      <td>536</td>\n",
       "      <td>1</td>\n",
       "    </tr>\n",
       "    <tr>\n",
       "      <th>4</th>\n",
       "      <td>5</td>\n",
       "      <td>8</td>\n",
       "      <td>28</td>\n",
       "      <td>761</td>\n",
       "      <td>585</td>\n",
       "      <td>1</td>\n",
       "    </tr>\n",
       "  </tbody>\n",
       "</table>\n",
       "</div>"
      ],
      "text/plain": [
       "   img  x1   y1   x2   y2  label\n",
       "0    1   0  143  370  486      1\n",
       "1    2  20  208  582  559      1\n",
       "2    3   2  110  243  410      1\n",
       "3    4   0  237  286  536      1\n",
       "4    5   8   28  761  585      1"
      ]
     },
     "execution_count": 5,
     "metadata": {},
     "output_type": "execute_result"
    }
   ],
   "source": [
    "coord.head()"
   ]
  },
  {
   "cell_type": "code",
   "execution_count": 6,
   "id": "66f3b82e",
   "metadata": {},
   "outputs": [],
   "source": [
    "coord = coord.rename(columns={\"img\": \"img_name\"})"
   ]
  },
  {
   "cell_type": "code",
   "execution_count": 7,
   "id": "35289d2f",
   "metadata": {},
   "outputs": [
    {
     "data": {
      "text/html": [
       "<div>\n",
       "<style scoped>\n",
       "    .dataframe tbody tr th:only-of-type {\n",
       "        vertical-align: middle;\n",
       "    }\n",
       "\n",
       "    .dataframe tbody tr th {\n",
       "        vertical-align: top;\n",
       "    }\n",
       "\n",
       "    .dataframe thead th {\n",
       "        text-align: right;\n",
       "    }\n",
       "</style>\n",
       "<table border=\"1\" class=\"dataframe\">\n",
       "  <thead>\n",
       "    <tr style=\"text-align: right;\">\n",
       "      <th></th>\n",
       "      <th>img_name</th>\n",
       "      <th>x1</th>\n",
       "      <th>y1</th>\n",
       "      <th>x2</th>\n",
       "      <th>y2</th>\n",
       "      <th>label</th>\n",
       "    </tr>\n",
       "  </thead>\n",
       "  <tbody>\n",
       "    <tr>\n",
       "      <th>0</th>\n",
       "      <td>1</td>\n",
       "      <td>0</td>\n",
       "      <td>143</td>\n",
       "      <td>370</td>\n",
       "      <td>486</td>\n",
       "      <td>1</td>\n",
       "    </tr>\n",
       "    <tr>\n",
       "      <th>1</th>\n",
       "      <td>2</td>\n",
       "      <td>20</td>\n",
       "      <td>208</td>\n",
       "      <td>582</td>\n",
       "      <td>559</td>\n",
       "      <td>1</td>\n",
       "    </tr>\n",
       "    <tr>\n",
       "      <th>2</th>\n",
       "      <td>3</td>\n",
       "      <td>2</td>\n",
       "      <td>110</td>\n",
       "      <td>243</td>\n",
       "      <td>410</td>\n",
       "      <td>1</td>\n",
       "    </tr>\n",
       "    <tr>\n",
       "      <th>3</th>\n",
       "      <td>4</td>\n",
       "      <td>0</td>\n",
       "      <td>237</td>\n",
       "      <td>286</td>\n",
       "      <td>536</td>\n",
       "      <td>1</td>\n",
       "    </tr>\n",
       "    <tr>\n",
       "      <th>4</th>\n",
       "      <td>5</td>\n",
       "      <td>8</td>\n",
       "      <td>28</td>\n",
       "      <td>761</td>\n",
       "      <td>585</td>\n",
       "      <td>1</td>\n",
       "    </tr>\n",
       "  </tbody>\n",
       "</table>\n",
       "</div>"
      ],
      "text/plain": [
       "   img_name  x1   y1   x2   y2  label\n",
       "0         1   0  143  370  486      1\n",
       "1         2  20  208  582  559      1\n",
       "2         3   2  110  243  410      1\n",
       "3         4   0  237  286  536      1\n",
       "4         5   8   28  761  585      1"
      ]
     },
     "execution_count": 7,
     "metadata": {},
     "output_type": "execute_result"
    }
   ],
   "source": [
    "coord.head()"
   ]
  },
  {
   "cell_type": "markdown",
   "id": "d062f76b",
   "metadata": {},
   "source": [
    "### Rescaling and Normalization"
   ]
  },
  {
   "cell_type": "code",
   "execution_count": 8,
   "id": "b79f3fb4",
   "metadata": {},
   "outputs": [],
   "source": [
    "# function to normalize bounding box\n",
    "\n",
    "def normalize_bbox(row):\n",
    "    # Read in the image and get its dimensions\n",
    "    image_path = f\"../raw_data/UECFOOD256/{(row['label'])}/{(row['img_name'])}.jpg\"\n",
    "    image = cv2.imread(image_path)\n",
    "    height, width = image.shape[:2]\n",
    "    \n",
    "    # Normalize the coordinates\n",
    "    x1_norm = row['x1'] / width\n",
    "    y1_norm = row['y1'] / height\n",
    "    x2_norm = row['x2'] / width\n",
    "    y2_norm = row['y2'] / height\n",
    "    \n",
    "    # Return normalized coordinates\n",
    "    return pd.Series({'x1_norm': x1_norm, 'y1_norm': y1_norm, 'x2_norm': x2_norm, 'y2_norm': y2_norm})\n",
    "\n",
    "# Apply the normalize_bbox function to each row of the DataFrame\n",
    "normalized_bbox_df = coord.apply(normalize_bbox, axis=1)\n",
    "\n",
    "# Concatenate the original DataFrame with the new normalized DataFrame\n",
    "rescaled_coord = pd.concat([coord, normalized_bbox_df], axis=1).drop(columns=['x1', 'y1','x2','y2'])\n"
   ]
  },
  {
   "cell_type": "code",
   "execution_count": 9,
   "id": "ba6db58f",
   "metadata": {},
   "outputs": [
    {
     "data": {
      "text/html": [
       "<div>\n",
       "<style scoped>\n",
       "    .dataframe tbody tr th:only-of-type {\n",
       "        vertical-align: middle;\n",
       "    }\n",
       "\n",
       "    .dataframe tbody tr th {\n",
       "        vertical-align: top;\n",
       "    }\n",
       "\n",
       "    .dataframe thead th {\n",
       "        text-align: right;\n",
       "    }\n",
       "</style>\n",
       "<table border=\"1\" class=\"dataframe\">\n",
       "  <thead>\n",
       "    <tr style=\"text-align: right;\">\n",
       "      <th></th>\n",
       "      <th>img_name</th>\n",
       "      <th>label</th>\n",
       "      <th>x1_norm</th>\n",
       "      <th>y1_norm</th>\n",
       "      <th>x2_norm</th>\n",
       "      <th>y2_norm</th>\n",
       "    </tr>\n",
       "  </thead>\n",
       "  <tbody>\n",
       "    <tr>\n",
       "      <th>0</th>\n",
       "      <td>1</td>\n",
       "      <td>1</td>\n",
       "      <td>0.0000</td>\n",
       "      <td>0.238333</td>\n",
       "      <td>0.46250</td>\n",
       "      <td>0.810000</td>\n",
       "    </tr>\n",
       "    <tr>\n",
       "      <th>1</th>\n",
       "      <td>2</td>\n",
       "      <td>1</td>\n",
       "      <td>0.0250</td>\n",
       "      <td>0.346667</td>\n",
       "      <td>0.72750</td>\n",
       "      <td>0.931667</td>\n",
       "    </tr>\n",
       "    <tr>\n",
       "      <th>2</th>\n",
       "      <td>3</td>\n",
       "      <td>1</td>\n",
       "      <td>0.0025</td>\n",
       "      <td>0.183333</td>\n",
       "      <td>0.30375</td>\n",
       "      <td>0.683333</td>\n",
       "    </tr>\n",
       "    <tr>\n",
       "      <th>3</th>\n",
       "      <td>4</td>\n",
       "      <td>1</td>\n",
       "      <td>0.0000</td>\n",
       "      <td>0.395000</td>\n",
       "      <td>0.35750</td>\n",
       "      <td>0.893333</td>\n",
       "    </tr>\n",
       "    <tr>\n",
       "      <th>4</th>\n",
       "      <td>5</td>\n",
       "      <td>1</td>\n",
       "      <td>0.0100</td>\n",
       "      <td>0.046667</td>\n",
       "      <td>0.95125</td>\n",
       "      <td>0.975000</td>\n",
       "    </tr>\n",
       "  </tbody>\n",
       "</table>\n",
       "</div>"
      ],
      "text/plain": [
       "   img_name  label  x1_norm   y1_norm  x2_norm   y2_norm\n",
       "0         1      1   0.0000  0.238333  0.46250  0.810000\n",
       "1         2      1   0.0250  0.346667  0.72750  0.931667\n",
       "2         3      1   0.0025  0.183333  0.30375  0.683333\n",
       "3         4      1   0.0000  0.395000  0.35750  0.893333\n",
       "4         5      1   0.0100  0.046667  0.95125  0.975000"
      ]
     },
     "execution_count": 9,
     "metadata": {},
     "output_type": "execute_result"
    }
   ],
   "source": [
    "rescaled_coord.head()"
   ]
  },
  {
   "cell_type": "markdown",
   "id": "b4efb29a",
   "metadata": {},
   "source": [
    "### add image paths"
   ]
  },
  {
   "cell_type": "code",
   "execution_count": 10,
   "id": "39287908",
   "metadata": {},
   "outputs": [],
   "source": [
    "list_paths = [f\"../raw_data/UECFOOD256/{int(row['label'])}/{int(row['img_name'])}.jpg\" for _, row in coord.iterrows()]\n"
   ]
  },
  {
   "cell_type": "code",
   "execution_count": 11,
   "id": "d8477d16",
   "metadata": {},
   "outputs": [],
   "source": [
    "rescaled_coord[\"paths\"] = pd.DataFrame(list_paths).copy()"
   ]
  },
  {
   "cell_type": "code",
   "execution_count": 12,
   "id": "e326083c",
   "metadata": {},
   "outputs": [
    {
     "data": {
      "text/html": [
       "<div>\n",
       "<style scoped>\n",
       "    .dataframe tbody tr th:only-of-type {\n",
       "        vertical-align: middle;\n",
       "    }\n",
       "\n",
       "    .dataframe tbody tr th {\n",
       "        vertical-align: top;\n",
       "    }\n",
       "\n",
       "    .dataframe thead th {\n",
       "        text-align: right;\n",
       "    }\n",
       "</style>\n",
       "<table border=\"1\" class=\"dataframe\">\n",
       "  <thead>\n",
       "    <tr style=\"text-align: right;\">\n",
       "      <th></th>\n",
       "      <th>img_name</th>\n",
       "      <th>label</th>\n",
       "      <th>x1_norm</th>\n",
       "      <th>y1_norm</th>\n",
       "      <th>x2_norm</th>\n",
       "      <th>y2_norm</th>\n",
       "      <th>paths</th>\n",
       "    </tr>\n",
       "  </thead>\n",
       "  <tbody>\n",
       "    <tr>\n",
       "      <th>0</th>\n",
       "      <td>1</td>\n",
       "      <td>1</td>\n",
       "      <td>0.0000</td>\n",
       "      <td>0.238333</td>\n",
       "      <td>0.46250</td>\n",
       "      <td>0.810000</td>\n",
       "      <td>../raw_data/UECFOOD256/1/1.jpg</td>\n",
       "    </tr>\n",
       "    <tr>\n",
       "      <th>1</th>\n",
       "      <td>2</td>\n",
       "      <td>1</td>\n",
       "      <td>0.0250</td>\n",
       "      <td>0.346667</td>\n",
       "      <td>0.72750</td>\n",
       "      <td>0.931667</td>\n",
       "      <td>../raw_data/UECFOOD256/1/2.jpg</td>\n",
       "    </tr>\n",
       "    <tr>\n",
       "      <th>2</th>\n",
       "      <td>3</td>\n",
       "      <td>1</td>\n",
       "      <td>0.0025</td>\n",
       "      <td>0.183333</td>\n",
       "      <td>0.30375</td>\n",
       "      <td>0.683333</td>\n",
       "      <td>../raw_data/UECFOOD256/1/3.jpg</td>\n",
       "    </tr>\n",
       "    <tr>\n",
       "      <th>3</th>\n",
       "      <td>4</td>\n",
       "      <td>1</td>\n",
       "      <td>0.0000</td>\n",
       "      <td>0.395000</td>\n",
       "      <td>0.35750</td>\n",
       "      <td>0.893333</td>\n",
       "      <td>../raw_data/UECFOOD256/1/4.jpg</td>\n",
       "    </tr>\n",
       "    <tr>\n",
       "      <th>4</th>\n",
       "      <td>5</td>\n",
       "      <td>1</td>\n",
       "      <td>0.0100</td>\n",
       "      <td>0.046667</td>\n",
       "      <td>0.95125</td>\n",
       "      <td>0.975000</td>\n",
       "      <td>../raw_data/UECFOOD256/1/5.jpg</td>\n",
       "    </tr>\n",
       "  </tbody>\n",
       "</table>\n",
       "</div>"
      ],
      "text/plain": [
       "   img_name  label  x1_norm   y1_norm  x2_norm   y2_norm  \\\n",
       "0         1      1   0.0000  0.238333  0.46250  0.810000   \n",
       "1         2      1   0.0250  0.346667  0.72750  0.931667   \n",
       "2         3      1   0.0025  0.183333  0.30375  0.683333   \n",
       "3         4      1   0.0000  0.395000  0.35750  0.893333   \n",
       "4         5      1   0.0100  0.046667  0.95125  0.975000   \n",
       "\n",
       "                            paths  \n",
       "0  ../raw_data/UECFOOD256/1/1.jpg  \n",
       "1  ../raw_data/UECFOOD256/1/2.jpg  \n",
       "2  ../raw_data/UECFOOD256/1/3.jpg  \n",
       "3  ../raw_data/UECFOOD256/1/4.jpg  \n",
       "4  ../raw_data/UECFOOD256/1/5.jpg  "
      ]
     },
     "execution_count": 12,
     "metadata": {},
     "output_type": "execute_result"
    }
   ],
   "source": [
    "rescaled_coord.head()"
   ]
  },
  {
   "cell_type": "code",
   "execution_count": 49,
   "id": "1c537da4",
   "metadata": {},
   "outputs": [],
   "source": [
    "rescaled_coord.to_csv('rescaled_coord.csv')"
   ]
  },
  {
   "cell_type": "markdown",
   "id": "9899d5df",
   "metadata": {},
   "source": [
    "### balancing Dataset"
   ]
  },
  {
   "cell_type": "code",
   "execution_count": 13,
   "id": "d28a970b",
   "metadata": {},
   "outputs": [],
   "source": [
    "def rebalancing(df: pd.DataFrame, classes: list, av_number: int = 110, random_state: int = 1) -> pd.DataFrame:\n",
    "    df_new = df.copy()\n",
    "    for class_ in classes:\n",
    "        class_df = df_new[df_new['label'] == class_]\n",
    "        class_count = len(class_df)\n",
    "        if class_count > av_number:\n",
    "            drop_indices = np.random.choice(class_df.index, class_count - av_number, replace=False)\n",
    "            df_new = df_new.drop(drop_indices)\n",
    "        else:\n",
    "            pass\n",
    "    return df_new"
   ]
  },
  {
   "cell_type": "code",
   "execution_count": 14,
   "id": "1e3798c6",
   "metadata": {},
   "outputs": [],
   "source": [
    "classes = list(set(rescaled_coord.label))"
   ]
  },
  {
   "cell_type": "code",
   "execution_count": 79,
   "id": "cc00b4d9",
   "metadata": {},
   "outputs": [],
   "source": [
    "df = rebalancing(rescaled_coord, classes, av_number= 50, random_state=1)"
   ]
  },
  {
   "cell_type": "code",
   "execution_count": 80,
   "id": "39525791",
   "metadata": {},
   "outputs": [
    {
     "data": {
      "text/plain": [
       "(104, 7)"
      ]
     },
     "execution_count": 80,
     "metadata": {},
     "output_type": "execute_result"
    }
   ],
   "source": [
    "rescaled_coord[rescaled_coord['label']==100].shape"
   ]
  },
  {
   "cell_type": "code",
   "execution_count": 81,
   "id": "4fe18b6e",
   "metadata": {},
   "outputs": [
    {
     "data": {
      "text/plain": [
       "(50, 7)"
      ]
     },
     "execution_count": 81,
     "metadata": {},
     "output_type": "execute_result"
    }
   ],
   "source": [
    "df[df['label']==100].shape"
   ]
  },
  {
   "cell_type": "markdown",
   "id": "45d9d7b4",
   "metadata": {},
   "source": [
    "### load downscaled pictures into array"
   ]
  },
  {
   "cell_type": "code",
   "execution_count": 82,
   "id": "56915830",
   "metadata": {},
   "outputs": [],
   "source": [
    "from tqdm.auto import tqdm"
   ]
  },
  {
   "cell_type": "code",
   "execution_count": 83,
   "id": "db22c3c8",
   "metadata": {},
   "outputs": [
    {
     "data": {
      "text/html": [
       "<div>\n",
       "<style scoped>\n",
       "    .dataframe tbody tr th:only-of-type {\n",
       "        vertical-align: middle;\n",
       "    }\n",
       "\n",
       "    .dataframe tbody tr th {\n",
       "        vertical-align: top;\n",
       "    }\n",
       "\n",
       "    .dataframe thead th {\n",
       "        text-align: right;\n",
       "    }\n",
       "</style>\n",
       "<table border=\"1\" class=\"dataframe\">\n",
       "  <thead>\n",
       "    <tr style=\"text-align: right;\">\n",
       "      <th></th>\n",
       "      <th>img_name</th>\n",
       "      <th>label</th>\n",
       "      <th>x1_norm</th>\n",
       "      <th>y1_norm</th>\n",
       "      <th>x2_norm</th>\n",
       "      <th>y2_norm</th>\n",
       "      <th>paths</th>\n",
       "    </tr>\n",
       "  </thead>\n",
       "  <tbody>\n",
       "    <tr>\n",
       "      <th>1</th>\n",
       "      <td>2</td>\n",
       "      <td>1</td>\n",
       "      <td>0.025</td>\n",
       "      <td>0.346667</td>\n",
       "      <td>0.727500</td>\n",
       "      <td>0.931667</td>\n",
       "      <td>../raw_data/UECFOOD256/1/2.jpg</td>\n",
       "    </tr>\n",
       "    <tr>\n",
       "      <th>18</th>\n",
       "      <td>22</td>\n",
       "      <td>1</td>\n",
       "      <td>0.620</td>\n",
       "      <td>0.533333</td>\n",
       "      <td>1.000000</td>\n",
       "      <td>1.000000</td>\n",
       "      <td>../raw_data/UECFOOD256/1/22.jpg</td>\n",
       "    </tr>\n",
       "    <tr>\n",
       "      <th>38</th>\n",
       "      <td>45</td>\n",
       "      <td>1</td>\n",
       "      <td>0.086</td>\n",
       "      <td>0.042667</td>\n",
       "      <td>0.800000</td>\n",
       "      <td>0.941333</td>\n",
       "      <td>../raw_data/UECFOOD256/1/45.jpg</td>\n",
       "    </tr>\n",
       "    <tr>\n",
       "      <th>46</th>\n",
       "      <td>61</td>\n",
       "      <td>1</td>\n",
       "      <td>0.000</td>\n",
       "      <td>0.366366</td>\n",
       "      <td>0.456000</td>\n",
       "      <td>0.945946</td>\n",
       "      <td>../raw_data/UECFOOD256/1/61.jpg</td>\n",
       "    </tr>\n",
       "    <tr>\n",
       "      <th>47</th>\n",
       "      <td>62</td>\n",
       "      <td>1</td>\n",
       "      <td>0.000</td>\n",
       "      <td>0.256667</td>\n",
       "      <td>0.826667</td>\n",
       "      <td>1.000000</td>\n",
       "      <td>../raw_data/UECFOOD256/1/62.jpg</td>\n",
       "    </tr>\n",
       "  </tbody>\n",
       "</table>\n",
       "</div>"
      ],
      "text/plain": [
       "    img_name  label  x1_norm   y1_norm   x2_norm   y2_norm  \\\n",
       "1          2      1    0.025  0.346667  0.727500  0.931667   \n",
       "18        22      1    0.620  0.533333  1.000000  1.000000   \n",
       "38        45      1    0.086  0.042667  0.800000  0.941333   \n",
       "46        61      1    0.000  0.366366  0.456000  0.945946   \n",
       "47        62      1    0.000  0.256667  0.826667  1.000000   \n",
       "\n",
       "                              paths  \n",
       "1    ../raw_data/UECFOOD256/1/2.jpg  \n",
       "18  ../raw_data/UECFOOD256/1/22.jpg  \n",
       "38  ../raw_data/UECFOOD256/1/45.jpg  \n",
       "46  ../raw_data/UECFOOD256/1/61.jpg  \n",
       "47  ../raw_data/UECFOOD256/1/62.jpg  "
      ]
     },
     "execution_count": 83,
     "metadata": {},
     "output_type": "execute_result"
    }
   ],
   "source": [
    "df.head()"
   ]
  },
  {
   "cell_type": "code",
   "execution_count": 84,
   "id": "fa041e32",
   "metadata": {},
   "outputs": [
    {
     "data": {
      "text/html": [
       "<div>\n",
       "<style scoped>\n",
       "    .dataframe tbody tr th:only-of-type {\n",
       "        vertical-align: middle;\n",
       "    }\n",
       "\n",
       "    .dataframe tbody tr th {\n",
       "        vertical-align: top;\n",
       "    }\n",
       "\n",
       "    .dataframe thead th {\n",
       "        text-align: right;\n",
       "    }\n",
       "</style>\n",
       "<table border=\"1\" class=\"dataframe\">\n",
       "  <thead>\n",
       "    <tr style=\"text-align: right;\">\n",
       "      <th></th>\n",
       "      <th>img_name</th>\n",
       "      <th>label</th>\n",
       "      <th>x1_norm</th>\n",
       "      <th>y1_norm</th>\n",
       "      <th>x2_norm</th>\n",
       "      <th>y2_norm</th>\n",
       "      <th>paths</th>\n",
       "    </tr>\n",
       "  </thead>\n",
       "  <tbody>\n",
       "    <tr>\n",
       "      <th>14969</th>\n",
       "      <td>67342</td>\n",
       "      <td>104</td>\n",
       "      <td>0.168000</td>\n",
       "      <td>0.024000</td>\n",
       "      <td>0.856000</td>\n",
       "      <td>0.744000</td>\n",
       "      <td>../raw_data/UECFOOD256/104/67342.jpg</td>\n",
       "    </tr>\n",
       "    <tr>\n",
       "      <th>24586</th>\n",
       "      <td>265664</td>\n",
       "      <td>192</td>\n",
       "      <td>0.020747</td>\n",
       "      <td>0.127778</td>\n",
       "      <td>0.991701</td>\n",
       "      <td>0.769444</td>\n",
       "      <td>../raw_data/UECFOOD256/192/265664.jpg</td>\n",
       "    </tr>\n",
       "    <tr>\n",
       "      <th>4674</th>\n",
       "      <td>2708</td>\n",
       "      <td>28</td>\n",
       "      <td>0.059140</td>\n",
       "      <td>0.000000</td>\n",
       "      <td>0.946237</td>\n",
       "      <td>1.000000</td>\n",
       "      <td>../raw_data/UECFOOD256/28/2708.jpg</td>\n",
       "    </tr>\n",
       "    <tr>\n",
       "      <th>16947</th>\n",
       "      <td>79246</td>\n",
       "      <td>123</td>\n",
       "      <td>0.058000</td>\n",
       "      <td>0.070000</td>\n",
       "      <td>0.936000</td>\n",
       "      <td>0.936000</td>\n",
       "      <td>../raw_data/UECFOOD256/123/79246.jpg</td>\n",
       "    </tr>\n",
       "    <tr>\n",
       "      <th>10652</th>\n",
       "      <td>7585</td>\n",
       "      <td>71</td>\n",
       "      <td>0.000000</td>\n",
       "      <td>0.110000</td>\n",
       "      <td>1.000000</td>\n",
       "      <td>0.790000</td>\n",
       "      <td>../raw_data/UECFOOD256/71/7585.jpg</td>\n",
       "    </tr>\n",
       "  </tbody>\n",
       "</table>\n",
       "</div>"
      ],
      "text/plain": [
       "       img_name  label   x1_norm   y1_norm   x2_norm   y2_norm  \\\n",
       "14969     67342    104  0.168000  0.024000  0.856000  0.744000   \n",
       "24586    265664    192  0.020747  0.127778  0.991701  0.769444   \n",
       "4674       2708     28  0.059140  0.000000  0.946237  1.000000   \n",
       "16947     79246    123  0.058000  0.070000  0.936000  0.936000   \n",
       "10652      7585     71  0.000000  0.110000  1.000000  0.790000   \n",
       "\n",
       "                                       paths  \n",
       "14969   ../raw_data/UECFOOD256/104/67342.jpg  \n",
       "24586  ../raw_data/UECFOOD256/192/265664.jpg  \n",
       "4674      ../raw_data/UECFOOD256/28/2708.jpg  \n",
       "16947   ../raw_data/UECFOOD256/123/79246.jpg  \n",
       "10652     ../raw_data/UECFOOD256/71/7585.jpg  "
      ]
     },
     "execution_count": 84,
     "metadata": {},
     "output_type": "execute_result"
    }
   ],
   "source": [
    "df_shuffled = df.sample(frac=1, random_state=42)\n",
    "df_shuffled.head()"
   ]
  },
  {
   "cell_type": "code",
   "execution_count": 85,
   "id": "c26db844",
   "metadata": {},
   "outputs": [],
   "source": [
    "df_shuffled.to_csv('df_shuffled.csv')"
   ]
  },
  {
   "cell_type": "code",
   "execution_count": 86,
   "id": "1ca9c622",
   "metadata": {},
   "outputs": [
    {
     "name": "stderr",
     "output_type": "stream",
     "text": [
      "100%|████████████████████████████████████| 12800/12800 [00:45<00:00, 279.06it/s]\n"
     ]
    }
   ],
   "source": [
    "color_order = \"BGR\"\n",
    "dims = (224,224)\n",
    "\n",
    "images = np.empty((len(df_shuffled), dims[0], dims[1], 3), dtype=np.float32)\n",
    "\n",
    "for i, path in enumerate(tqdm(df_shuffled.paths.values)):\n",
    "    img = cv2.imread(path)\n",
    "    img = cv2.resize(img, dims, interpolation=cv2.INTER_AREA)\n",
    "    if color_order == \"RGB\":\n",
    "        img = img[:,:,::-1]\n",
    "    images[i, :, :, :] = img/255"
   ]
  },
  {
   "cell_type": "code",
   "execution_count": 87,
   "id": "15dc7080",
   "metadata": {},
   "outputs": [
    {
     "data": {
      "text/plain": [
       "numpy.ndarray"
      ]
     },
     "execution_count": 87,
     "metadata": {},
     "output_type": "execute_result"
    }
   ],
   "source": [
    "type(images)"
   ]
  },
  {
   "cell_type": "code",
   "execution_count": 88,
   "id": "587614d2",
   "metadata": {},
   "outputs": [],
   "source": [
    "np.savez_compressed('imgs_2.npz', images)\n"
   ]
  },
  {
   "cell_type": "code",
   "execution_count": 89,
   "id": "e629f01e",
   "metadata": {},
   "outputs": [
    {
     "name": "stdout",
     "output_type": "stream",
     "text": [
      "-rw-r--r--  1 katharinarolfs  staff    14G Mar 23 09:38 imgs.npz\r\n",
      "-rw-r--r--  1 katharinarolfs  staff   2.1G Mar 23 10:47 imgs_2.npz\r\n"
     ]
    }
   ],
   "source": [
    "ls -hal imgs*"
   ]
  },
  {
   "cell_type": "code",
   "execution_count": 22,
   "id": "15e83bfb",
   "metadata": {},
   "outputs": [],
   "source": [
    "labels = np.array(df_shuffled.label)\n",
    "bboxes = np.array(df_shuffled[['x1_norm','y1_norm','x2_norm','y2_norm']], dtype=\"float32\")\n",
    "paths = np.array(df_shuffled.paths)"
   ]
  },
  {
   "cell_type": "code",
   "execution_count": 23,
   "id": "b19a9745",
   "metadata": {},
   "outputs": [],
   "source": [
    "lb = LabelBinarizer()\n",
    "labels = lb.fit_transform(labels)"
   ]
  },
  {
   "cell_type": "code",
   "execution_count": 24,
   "id": "3e6c6de4",
   "metadata": {},
   "outputs": [],
   "source": [
    "if len(lb.classes_) == 2:\n",
    "    print(\"two classes\")\n",
    "    labels = to_categorical(labels)"
   ]
  },
  {
   "cell_type": "code",
   "execution_count": 25,
   "id": "95feb83f",
   "metadata": {},
   "outputs": [
    {
     "data": {
      "text/plain": [
       "256"
      ]
     },
     "execution_count": 25,
     "metadata": {},
     "output_type": "execute_result"
    }
   ],
   "source": [
    "len(set(df_shuffled.label))"
   ]
  },
  {
   "cell_type": "code",
   "execution_count": 26,
   "id": "0dc32e91",
   "metadata": {},
   "outputs": [],
   "source": [
    "tvImages, testImages,tvLabels, testLabels,tvBBoxes, testBBoxes,tvPaths, testPaths=\\\n",
    "train_test_split(images,\n",
    "                 labels,\n",
    "                 bboxes,\n",
    "                 paths,\n",
    "                 test_size=0.20,\n",
    "                 random_state=42)"
   ]
  },
  {
   "cell_type": "code",
   "execution_count": 27,
   "id": "2d826c9d",
   "metadata": {},
   "outputs": [],
   "source": [
    "trainImages, valImages,trainLabels, valLabels,trainBBoxes, valBBoxes, trainPaths, valPaths=\\\n",
    "train_test_split(tvImages,\n",
    "                 tvLabels,\n",
    "                 tvBBoxes,\n",
    "                 tvPaths,\n",
    "                 test_size=0.20,\n",
    "                 random_state=42)"
   ]
  },
  {
   "cell_type": "markdown",
   "id": "07fe1a9f-1438-435d-9213-e415e737e2ce",
   "metadata": {},
   "source": [
    "## Model"
   ]
  },
  {
   "cell_type": "code",
   "execution_count": 28,
   "id": "91a6307a-e215-46f3-9d95-38b04d28e486",
   "metadata": {
    "tags": []
   },
   "outputs": [],
   "source": [
    "vgg = VGG16(weights=\"imagenet\",\n",
    "            include_top=False,\n",
    "            input_tensor=layers.Input(shape=(224, 224, 3)))\n",
    "\n",
    "\n",
    "vgg.trainable = False\n",
    "\n",
    "flatten = vgg.output\n",
    "flatten = layers.Flatten()(flatten)\n",
    "\n",
    "bboxHead = layers.Dense(128, activation=\"relu\")(flatten)\n",
    "bboxHead = layers.Dense(64, activation=\"relu\")(bboxHead)\n",
    "bboxHead = layers.Dense(32, activation=\"relu\")(bboxHead)\n",
    "bboxHead = layers.Dense(4, activation=\"sigmoid\", name=\"bounding_box\")(bboxHead)\n",
    "\n",
    "softmaxHead = layers.Dense(512, activation=\"relu\")(flatten)\n",
    "softmaxHead = layers.Dropout(0.5)(softmaxHead)\n",
    "softmaxHead = layers.Dense(512, activation=\"relu\")(softmaxHead)\n",
    "softmaxHead = layers.Dropout(0.5)(softmaxHead)\n",
    "softmaxHead = layers.Dense(len(set(df_shuffled.label)), activation=\"softmax\", name=\"class_label\")(softmaxHead)\n"
   ]
  },
  {
   "cell_type": "code",
   "execution_count": 29,
   "id": "baae9df2",
   "metadata": {},
   "outputs": [],
   "source": [
    "model = Model(\n",
    "    inputs=vgg.input,\n",
    "    outputs=(bboxHead, softmaxHead))"
   ]
  },
  {
   "cell_type": "code",
   "execution_count": 30,
   "id": "bcc0bcf5-27a3-40ad-afff-a866e4968c7a",
   "metadata": {
    "tags": []
   },
   "outputs": [],
   "source": [
    "losses = {\n",
    "    \"class_label\": 'categorical_crossentropy',\n",
    "    \"bounding_box\": \"mse\"\n",
    "}"
   ]
  },
  {
   "cell_type": "code",
   "execution_count": 31,
   "id": "f310cfdc-d5d4-44a6-bb08-0a1c8bb5a50f",
   "metadata": {
    "tags": []
   },
   "outputs": [],
   "source": [
    "lossWeights = {\n",
    "    \"class_label\": 1.0,\n",
    "    \"bounding_box\": 1.0\n",
    "}"
   ]
  },
  {
   "cell_type": "code",
   "execution_count": 32,
   "id": "28703d3b-b0d6-4531-84a4-570bf5d9478d",
   "metadata": {
    "tags": []
   },
   "outputs": [],
   "source": [
    "trainTargets = {\n",
    "    \"class_label\": trainLabels,\n",
    "    \"bounding_box\": trainBBoxes\n",
    "}"
   ]
  },
  {
   "cell_type": "code",
   "execution_count": 33,
   "id": "69a31368-8f9e-4eec-9464-80a9b6ff156c",
   "metadata": {
    "tags": []
   },
   "outputs": [],
   "source": [
    "testTargets = {\n",
    "    \"class_label\": testLabels,\n",
    "    \"bounding_box\": testBBoxes\n",
    "}"
   ]
  },
  {
   "cell_type": "code",
   "execution_count": 34,
   "id": "b779d978",
   "metadata": {},
   "outputs": [],
   "source": [
    "valTargets = {\n",
    "    \"class_label\": valLabels,\n",
    "    \"bounding_box\": valBBoxes\n",
    "}"
   ]
  },
  {
   "cell_type": "code",
   "execution_count": 35,
   "id": "abbf8942-5e42-44b6-a1d2-ade79a97f7c2",
   "metadata": {
    "tags": []
   },
   "outputs": [],
   "source": [
    "metrics = {\n",
    "    \"class_label\": \"categorical_accuracy\",\n",
    "    \"bounding_box\": MeanIoU(num_classes=len(set(df_shuffled.label)))\n",
    "}"
   ]
  },
  {
   "cell_type": "code",
   "execution_count": 36,
   "id": "466bd563-30fe-4ae0-9e07-bb7a43f1d984",
   "metadata": {
    "tags": []
   },
   "outputs": [
    {
     "name": "stdout",
     "output_type": "stream",
     "text": [
      "Model: \"model\"\n",
      "__________________________________________________________________________________________________\n",
      " Layer (type)                   Output Shape         Param #     Connected to                     \n",
      "==================================================================================================\n",
      " input_1 (InputLayer)           [(None, 224, 224, 3  0           []                               \n",
      "                                )]                                                                \n",
      "                                                                                                  \n",
      " block1_conv1 (Conv2D)          (None, 224, 224, 64  1792        ['input_1[0][0]']                \n",
      "                                )                                                                 \n",
      "                                                                                                  \n",
      " block1_conv2 (Conv2D)          (None, 224, 224, 64  36928       ['block1_conv1[0][0]']           \n",
      "                                )                                                                 \n",
      "                                                                                                  \n",
      " block1_pool (MaxPooling2D)     (None, 112, 112, 64  0           ['block1_conv2[0][0]']           \n",
      "                                )                                                                 \n",
      "                                                                                                  \n",
      " block2_conv1 (Conv2D)          (None, 112, 112, 12  73856       ['block1_pool[0][0]']            \n",
      "                                8)                                                                \n",
      "                                                                                                  \n",
      " block2_conv2 (Conv2D)          (None, 112, 112, 12  147584      ['block2_conv1[0][0]']           \n",
      "                                8)                                                                \n",
      "                                                                                                  \n",
      " block2_pool (MaxPooling2D)     (None, 56, 56, 128)  0           ['block2_conv2[0][0]']           \n",
      "                                                                                                  \n",
      " block3_conv1 (Conv2D)          (None, 56, 56, 256)  295168      ['block2_pool[0][0]']            \n",
      "                                                                                                  \n",
      " block3_conv2 (Conv2D)          (None, 56, 56, 256)  590080      ['block3_conv1[0][0]']           \n",
      "                                                                                                  \n",
      " block3_conv3 (Conv2D)          (None, 56, 56, 256)  590080      ['block3_conv2[0][0]']           \n",
      "                                                                                                  \n",
      " block3_pool (MaxPooling2D)     (None, 28, 28, 256)  0           ['block3_conv3[0][0]']           \n",
      "                                                                                                  \n",
      " block4_conv1 (Conv2D)          (None, 28, 28, 512)  1180160     ['block3_pool[0][0]']            \n",
      "                                                                                                  \n",
      " block4_conv2 (Conv2D)          (None, 28, 28, 512)  2359808     ['block4_conv1[0][0]']           \n",
      "                                                                                                  \n",
      " block4_conv3 (Conv2D)          (None, 28, 28, 512)  2359808     ['block4_conv2[0][0]']           \n",
      "                                                                                                  \n",
      " block4_pool (MaxPooling2D)     (None, 14, 14, 512)  0           ['block4_conv3[0][0]']           \n",
      "                                                                                                  \n",
      " block5_conv1 (Conv2D)          (None, 14, 14, 512)  2359808     ['block4_pool[0][0]']            \n",
      "                                                                                                  \n",
      " block5_conv2 (Conv2D)          (None, 14, 14, 512)  2359808     ['block5_conv1[0][0]']           \n",
      "                                                                                                  \n",
      " block5_conv3 (Conv2D)          (None, 14, 14, 512)  2359808     ['block5_conv2[0][0]']           \n",
      "                                                                                                  \n",
      " block5_pool (MaxPooling2D)     (None, 7, 7, 512)    0           ['block5_conv3[0][0]']           \n",
      "                                                                                                  \n",
      " flatten (Flatten)              (None, 25088)        0           ['block5_pool[0][0]']            \n",
      "                                                                                                  \n",
      " dense_3 (Dense)                (None, 512)          12845568    ['flatten[0][0]']                \n",
      "                                                                                                  \n",
      " dense (Dense)                  (None, 128)          3211392     ['flatten[0][0]']                \n",
      "                                                                                                  \n",
      " dropout (Dropout)              (None, 512)          0           ['dense_3[0][0]']                \n",
      "                                                                                                  \n",
      " dense_1 (Dense)                (None, 64)           8256        ['dense[0][0]']                  \n",
      "                                                                                                  \n",
      " dense_4 (Dense)                (None, 512)          262656      ['dropout[0][0]']                \n",
      "                                                                                                  \n",
      " dense_2 (Dense)                (None, 32)           2080        ['dense_1[0][0]']                \n",
      "                                                                                                  \n",
      " dropout_1 (Dropout)            (None, 512)          0           ['dense_4[0][0]']                \n",
      "                                                                                                  \n",
      " bounding_box (Dense)           (None, 4)            132         ['dense_2[0][0]']                \n",
      "                                                                                                  \n",
      " class_label (Dense)            (None, 256)          131328      ['dropout_1[0][0]']              \n",
      "                                                                                                  \n",
      "==================================================================================================\n",
      "Total params: 31,176,100\n",
      "Trainable params: 16,461,412\n",
      "Non-trainable params: 14,714,688\n",
      "__________________________________________________________________________________________________\n",
      "None\n"
     ]
    }
   ],
   "source": [
    "opt = Adam(0.001)\n",
    "\n",
    "\n",
    "model.compile(loss=losses, \n",
    "              optimizer=opt, \n",
    "              metrics=metrics, \n",
    "              loss_weights=lossWeights)\n",
    "\n",
    "print(model.summary())"
   ]
  },
  {
   "cell_type": "code",
   "execution_count": null,
   "id": "61ba612d",
   "metadata": {},
   "outputs": [],
   "source": [
    "es = EarlyStopping(monitor = 'loss',\n",
    "                   patience = 5,\n",
    "                   verbose = 0,\n",
    "                   restore_best_weights = True)"
   ]
  },
  {
   "cell_type": "code",
   "execution_count": null,
   "id": "21e16fc3",
   "metadata": {},
   "outputs": [],
   "source": [
    "from datetime import datetime\n",
    "import keras\n",
    "logdir = \"logs/\" + datetime.now().strftime(\"%Y%m%d-%H%M%S\")\n",
    "tensorboard_callback = keras.callbacks.TensorBoard(log_dir=logdir)"
   ]
  },
  {
   "cell_type": "code",
   "execution_count": 47,
   "id": "5ac2155e",
   "metadata": {},
   "outputs": [
    {
     "name": "stdout",
     "output_type": "stream",
     "text": [
      "Epoch 1/1000\n",
      "256/256 [==============================] - 1177s 5s/step - loss: 5.5587 - bounding_box_loss: 0.0206 - class_label_loss: 5.5381 - bounding_box_mean_io_u: 0.3224 - class_label_categorical_accuracy: 0.0051 - val_loss: 5.5816 - val_bounding_box_loss: 0.0202 - val_class_label_loss: 5.5614 - val_bounding_box_mean_io_u: 0.3212 - val_class_label_categorical_accuracy: 0.0039\n",
      "Epoch 2/1000\n",
      "256/256 [==============================] - 1164s 5s/step - loss: 5.5592 - bounding_box_loss: 0.0206 - class_label_loss: 5.5387 - bounding_box_mean_io_u: 0.3224 - class_label_categorical_accuracy: 0.0055 - val_loss: 5.5817 - val_bounding_box_loss: 0.0202 - val_class_label_loss: 5.5615 - val_bounding_box_mean_io_u: 0.3212 - val_class_label_categorical_accuracy: 0.0039\n",
      "Epoch 3/1000\n",
      "256/256 [==============================] - 1170s 5s/step - loss: 5.5562 - bounding_box_loss: 0.0206 - class_label_loss: 5.5356 - bounding_box_mean_io_u: 0.3224 - class_label_categorical_accuracy: 0.0055 - val_loss: 5.5819 - val_bounding_box_loss: 0.0202 - val_class_label_loss: 5.5618 - val_bounding_box_mean_io_u: 0.3212 - val_class_label_categorical_accuracy: 0.0039\n",
      "Epoch 4/1000\n",
      "256/256 [==============================] - 1168s 5s/step - loss: 5.5565 - bounding_box_loss: 0.0206 - class_label_loss: 5.5359 - bounding_box_mean_io_u: 0.3224 - class_label_categorical_accuracy: 0.0063 - val_loss: 5.5818 - val_bounding_box_loss: 0.0202 - val_class_label_loss: 5.5616 - val_bounding_box_mean_io_u: 0.3212 - val_class_label_categorical_accuracy: 0.0039\n",
      "Epoch 5/1000\n",
      "256/256 [==============================] - 1166s 5s/step - loss: 5.5611 - bounding_box_loss: 0.0206 - class_label_loss: 5.5406 - bounding_box_mean_io_u: 0.3224 - class_label_categorical_accuracy: 0.0055 - val_loss: 5.5774 - val_bounding_box_loss: 0.0202 - val_class_label_loss: 5.5572 - val_bounding_box_mean_io_u: 0.3212 - val_class_label_categorical_accuracy: 0.0054\n",
      "Epoch 6/1000\n",
      "256/256 [==============================] - 1159s 5s/step - loss: 5.5581 - bounding_box_loss: 0.0206 - class_label_loss: 5.5375 - bounding_box_mean_io_u: 0.3224 - class_label_categorical_accuracy: 0.0066 - val_loss: 5.5879 - val_bounding_box_loss: 0.0202 - val_class_label_loss: 5.5677 - val_bounding_box_mean_io_u: 0.3212 - val_class_label_categorical_accuracy: 0.0029\n",
      "Epoch 7/1000\n",
      "256/256 [==============================] - 1165s 5s/step - loss: 5.5582 - bounding_box_loss: 0.0206 - class_label_loss: 5.5377 - bounding_box_mean_io_u: 0.3224 - class_label_categorical_accuracy: 0.0059 - val_loss: 5.5884 - val_bounding_box_loss: 0.0202 - val_class_label_loss: 5.5682 - val_bounding_box_mean_io_u: 0.3212 - val_class_label_categorical_accuracy: 0.0029\n",
      "Epoch 8/1000\n",
      "256/256 [==============================] - 1166s 5s/step - loss: 5.5559 - bounding_box_loss: 0.0206 - class_label_loss: 5.5353 - bounding_box_mean_io_u: 0.3224 - class_label_categorical_accuracy: 0.0061 - val_loss: 5.5830 - val_bounding_box_loss: 0.0202 - val_class_label_loss: 5.5628 - val_bounding_box_mean_io_u: 0.3212 - val_class_label_categorical_accuracy: 0.0039\n",
      "Epoch 9/1000\n",
      "256/256 [==============================] - 1155s 5s/step - loss: 5.5656 - bounding_box_loss: 0.0206 - class_label_loss: 5.5451 - bounding_box_mean_io_u: 0.3224 - class_label_categorical_accuracy: 0.0059 - val_loss: 5.5884 - val_bounding_box_loss: 0.0202 - val_class_label_loss: 5.5682 - val_bounding_box_mean_io_u: 0.3212 - val_class_label_categorical_accuracy: 0.0029\n",
      "Epoch 10/1000\n",
      "256/256 [==============================] - 1161s 5s/step - loss: 5.5566 - bounding_box_loss: 0.0206 - class_label_loss: 5.5361 - bounding_box_mean_io_u: 0.3224 - class_label_categorical_accuracy: 0.0061 - val_loss: 5.5877 - val_bounding_box_loss: 0.0202 - val_class_label_loss: 5.5675 - val_bounding_box_mean_io_u: 0.3212 - val_class_label_categorical_accuracy: 0.0034\n"
     ]
    }
   ],
   "source": [
    "history = model.fit(\n",
    "    trainImages,\n",
    "    trainTargets,\n",
    "    validation_data=(valImages, valTargets),\n",
    "    batch_size=32,\n",
    "    epochs=1000,\n",
    "    verbose=1,\n",
    "    callbacks = [es, tensorboard_callback],\n",
    "    )"
   ]
  },
  {
   "cell_type": "markdown",
   "id": "fcf212ca",
   "metadata": {},
   "source": [
    "## Save model"
   ]
  },
  {
   "cell_type": "code",
   "execution_count": null,
   "id": "8bc21d15",
   "metadata": {},
   "outputs": [],
   "source": [
    "# VGG16\n",
    "\n",
    "pickle.dump(model, open('vgg16_256classes_50imgs.pkl', 'wb'))"
   ]
  },
  {
   "cell_type": "code",
   "execution_count": null,
   "id": "48c5ff80",
   "metadata": {},
   "outputs": [],
   "source": [
    "list(testPaths)"
   ]
  },
  {
   "cell_type": "code",
   "execution_count": 48,
   "id": "acf1c375",
   "metadata": {},
   "outputs": [
    {
     "data": {
      "text/plain": [
       "3"
      ]
     },
     "execution_count": 48,
     "metadata": {},
     "output_type": "execute_result"
    }
   ],
   "source": [
    "a=3\n",
    "a"
   ]
  },
  {
   "cell_type": "code",
   "execution_count": null,
   "id": "34c3e7a6",
   "metadata": {},
   "outputs": [],
   "source": []
  }
 ],
 "metadata": {
  "kernelspec": {
   "display_name": "Python 3 (ipykernel)",
   "language": "python",
   "name": "python3"
  },
  "language_info": {
   "codemirror_mode": {
    "name": "ipython",
    "version": 3
   },
   "file_extension": ".py",
   "mimetype": "text/x-python",
   "name": "python",
   "nbconvert_exporter": "python",
   "pygments_lexer": "ipython3",
   "version": "3.10.6"
  },
  "toc": {
   "base_numbering": 1,
   "nav_menu": {},
   "number_sections": true,
   "sideBar": true,
   "skip_h1_title": false,
   "title_cell": "Table of Contents",
   "title_sidebar": "Contents",
   "toc_cell": false,
   "toc_position": {},
   "toc_section_display": true,
   "toc_window_display": false
  },
  "varInspector": {
   "cols": {
    "lenName": 16,
    "lenType": 16,
    "lenVar": 40
   },
   "kernels_config": {
    "python": {
     "delete_cmd_postfix": "",
     "delete_cmd_prefix": "del ",
     "library": "var_list.py",
     "varRefreshCmd": "print(var_dic_list())"
    },
    "r": {
     "delete_cmd_postfix": ") ",
     "delete_cmd_prefix": "rm(",
     "library": "var_list.r",
     "varRefreshCmd": "cat(var_dic_list()) "
    }
   },
   "types_to_exclude": [
    "module",
    "function",
    "builtin_function_or_method",
    "instance",
    "_Feature"
   ],
   "window_display": false
  }
 },
 "nbformat": 4,
 "nbformat_minor": 5
}

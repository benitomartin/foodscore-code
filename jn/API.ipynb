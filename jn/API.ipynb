{
 "cells": [
  {
   "cell_type": "code",
   "execution_count": 1,
   "metadata": {},
   "outputs": [],
   "source": [
    "import requests\n",
    "import pandas as pd"
   ]
  },
  {
   "cell_type": "code",
   "execution_count": 2,
   "metadata": {},
   "outputs": [
    {
     "name": "stdout",
     "output_type": "stream",
     "text": [
      "rice\n"
     ]
    },
    {
     "name": "stderr",
     "output_type": "stream",
     "text": [
      "/var/folders/2f/ldcq85b560s_5607_67zlhch0000gn/T/ipykernel_17342/1335822959.py:32: FutureWarning: The frame.append method is deprecated and will be removed from pandas in a future version. Use pandas.concat instead.\n",
      "  nutrition_data = nutrition_data.append({\n"
     ]
    },
    {
     "name": "stdout",
     "output_type": "stream",
     "text": [
      "pilaf\n"
     ]
    },
    {
     "name": "stderr",
     "output_type": "stream",
     "text": [
      "/var/folders/2f/ldcq85b560s_5607_67zlhch0000gn/T/ipykernel_17342/1335822959.py:32: FutureWarning: The frame.append method is deprecated and will be removed from pandas in a future version. Use pandas.concat instead.\n",
      "  nutrition_data = nutrition_data.append({\n"
     ]
    },
    {
     "name": "stdout",
     "output_type": "stream",
     "text": [
      "sushi\n"
     ]
    },
    {
     "name": "stderr",
     "output_type": "stream",
     "text": [
      "/var/folders/2f/ldcq85b560s_5607_67zlhch0000gn/T/ipykernel_17342/1335822959.py:32: FutureWarning: The frame.append method is deprecated and will be removed from pandas in a future version. Use pandas.concat instead.\n",
      "  nutrition_data = nutrition_data.append({\n"
     ]
    }
   ],
   "source": [
    "def get_nutrition(food_name):\n",
    "    nutrition_data = pd.DataFrame(columns=['name', 'protein', 'calcium', 'fat', 'carbohydrates', 'vitamins'])\n",
    "    for name in food_name:\n",
    "        url = \"https://api.nal.usda.gov/fdc/v1/foods/search?api_key=d4D6dSOc81pTAOY2gsNZ0YhjkMlhStLJRoII5SJu&query=\" + name\n",
    "        response = requests.get(url)\n",
    "        data = response.json()\n",
    "        flatten_json = pd.json_normalize(data[\"foods\"])\n",
    "        first_food = flatten_json.iloc[0]\n",
    "        first_food_nutrition_list = first_food.foodNutrients\n",
    "        for item in first_food_nutrition_list:\n",
    "            if item['nutrientNumber'] == \"203\":\n",
    "                protein = item['value']\n",
    "                continue\n",
    "            if item['nutrientNumber'] == \"301\":\n",
    "                calcium = item['value']\n",
    "                continue\n",
    "            if item['nutrientNumber'] == \"204\":\n",
    "                fat = item['value']\n",
    "                continue\n",
    "            if item['nutrientNumber'] == \"205\":\n",
    "                carbs = item['value']\n",
    "                continue\n",
    "            if item['nutrientNumber'] == \"318\":\n",
    "                vitamin_a = item['value']\n",
    "                continue\n",
    "            if item['nutrientNumber'] == \"401\":\n",
    "                vitamin_c = item['value']\n",
    "                continue\n",
    "\n",
    "        vitamins = float(vitamin_a) + float(vitamin_c)\n",
    "        print(name)\n",
    "        nutrition_data = nutrition_data.append({\n",
    "            'name': name,\n",
    "            'protein': protein,\n",
    "            'calcium': calcium / 1000,\n",
    "            'fat': fat,\n",
    "            'carbohydrates': carbs,\n",
    "            'vitamins': vitamins / 1000\n",
    "        }, ignore_index=True)\n",
    "\n",
    "    return nutrition_data\n",
    "\n",
    "nutrition101 = get_nutrition(['rice', 'pilaf', 'sushi'])\n",
    "nutrition101 = nutrition101.reset_index(drop=True)\n",
    "nutrition101.to_csv(\"nutrition101.csv\")"
   ]
  }
 ],
 "metadata": {
  "kernelspec": {
   "display_name": "FoodScore",
   "language": "python",
   "name": "python3"
  },
  "language_info": {
   "codemirror_mode": {
    "name": "ipython",
    "version": 3
   },
   "file_extension": ".py",
   "mimetype": "text/x-python",
   "name": "python",
   "nbconvert_exporter": "python",
   "pygments_lexer": "ipython3",
   "version": "3.10.6"
  },
  "orig_nbformat": 4
 },
 "nbformat": 4,
 "nbformat_minor": 2
}

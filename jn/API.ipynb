{
 "cells": [
  {
   "cell_type": "code",
   "execution_count": 1,
   "metadata": {},
   "outputs": [],
   "source": [
    "import requests\n",
    "import pandas as pd\n",
    "import numpy as np"
   ]
  },
  {
   "cell_type": "code",
   "execution_count": 2,
   "metadata": {},
   "outputs": [],
   "source": [
    "food_name = []\n",
    "with open('../raw_data/UECFOOD100/category.txt', 'r') as f:\n",
    "    next(f)\n",
    "    for line in f:\n",
    "        line = line.strip().split('\\t')\n",
    "        food_name.append(line[1])"
   ]
  },
  {
   "cell_type": "code",
   "execution_count": 3,
   "metadata": {},
   "outputs": [
    {
     "data": {
      "text/plain": [
       "100"
      ]
     },
     "execution_count": 3,
     "metadata": {},
     "output_type": "execute_result"
    }
   ],
   "source": [
    "len(food_name)"
   ]
  },
  {
   "cell_type": "code",
   "execution_count": 4,
   "metadata": {},
   "outputs": [],
   "source": [
    "import pandas as pd\n",
    "import requests\n",
    "import numpy as np\n",
    "\n",
    "def get_nutrition(food_name):\n",
    "    nutrition_data = pd.DataFrame(columns=['name', 'protein', 'calcium', 'fat', 'carbohydrates', 'vitamins'])\n",
    "    carbs = 0\n",
    "    vitamin_a = 0\n",
    "    vitamin_c = 0\n",
    "    data_to_concat = []\n",
    "    for name in food_name:\n",
    "        try:\n",
    "            url = \"https://api.nal.usda.gov/fdc/v1/foods/search?api_key=d4D6dSOc81pTAOY2gsNZ0YhjkMlhStLJRoII5SJu&query=\" + name\n",
    "            response = requests.get(url)\n",
    "            data = response.json()\n",
    "            flatten_json = pd.json_normalize(data[\"foods\"])\n",
    "            if not flatten_json.empty:\n",
    "                first_food = flatten_json.iloc[0]\n",
    "                first_food_nutrition_list = first_food.foodNutrients\n",
    "\n",
    "                data_to_concat = []  # moved inside try block\n",
    "                for item in first_food_nutrition_list:\n",
    "                    if item['nutrientNumber'] == \"203\":\n",
    "                        protein = item['value']\n",
    "                        continue\n",
    "                    if item['nutrientNumber'] == \"301\":\n",
    "                        calcium = item['value']\n",
    "                        continue\n",
    "                    if item['nutrientNumber'] == \"204\":\n",
    "                        fat = item['value']\n",
    "                        continue\n",
    "                    if item['nutrientNumber'] == \"205\":\n",
    "                        carbs = item['value']\n",
    "                        continue\n",
    "                    if item['nutrientNumber'] == \"318\":\n",
    "                        vitamin_a = item['value']\n",
    "                        continue\n",
    "                    if item['nutrientNumber'] == \"401\":\n",
    "                        vitamin_c = item['value']\n",
    "                        continue\n",
    "\n",
    "                vitamins = float(vitamin_a) + float(vitamin_c)\n",
    "                data_to_concat.append({\n",
    "                    'name': name,\n",
    "                    'protein': protein or np.nan,\n",
    "                    'calcium': calcium / 1000 if calcium else np.nan,\n",
    "                    'fat': fat or np.nan,\n",
    "                    'carbohydrates': carbs or np.nan,\n",
    "                    'vitamins': vitamins / 1000 if vitamins else np.nan\n",
    "                })\n",
    "            \n",
    "                nutrition_data = pd.concat([nutrition_data, pd.DataFrame(data_to_concat)], ignore_index=True)\n",
    "            else:\n",
    "                print(f\"Sorry {name}, is not in the database. But it's propably healthy. Enjoy! :)\")\n",
    "        except KeyError:\n",
    "            print(f\"Sorry {name}, is not in the database. But it's propably healthy. Enjoy! :)\")\n",
    "\n",
    "    return nutrition_data\n"
   ]
  },
  {
   "cell_type": "code",
   "execution_count": 5,
   "metadata": {},
   "outputs": [
    {
     "name": "stdout",
     "output_type": "stream",
     "text": [
      "Sorry takoyaki, is not in the database. But it's propably healthy. Enjoy! :)\n",
      "Sorry ganmodoki, is not in the database. But it's propably healthy. Enjoy! :)\n",
      "Sorry nanbanzuke, is not in the database. But it's propably healthy. Enjoy! :)\n"
     ]
    }
   ],
   "source": [
    "nutrition101 = get_nutrition(food_name)"
   ]
  },
  {
   "cell_type": "code",
   "execution_count": 6,
   "metadata": {},
   "outputs": [
    {
     "data": {
      "text/plain": [
       "(97, 6)"
      ]
     },
     "execution_count": 6,
     "metadata": {},
     "output_type": "execute_result"
    }
   ],
   "source": [
    "nutrition101.shape"
   ]
  },
  {
   "cell_type": "code",
   "execution_count": null,
   "metadata": {},
   "outputs": [],
   "source": [
    "nutrition101.loc[nutrition101['name'] == 'Japanese-style pancake']"
   ]
  },
  {
   "cell_type": "code",
   "execution_count": null,
   "metadata": {},
   "outputs": [],
   "source": []
  }
 ],
 "metadata": {
  "kernelspec": {
   "display_name": "Python 3 (ipykernel)",
   "language": "python",
   "name": "python3"
  },
  "language_info": {
   "codemirror_mode": {
    "name": "ipython",
    "version": 3
   },
   "file_extension": ".py",
   "mimetype": "text/x-python",
   "name": "python",
   "nbconvert_exporter": "python",
   "pygments_lexer": "ipython3",
   "version": "3.10.6"
  },
  "toc": {
   "base_numbering": 1,
   "nav_menu": {},
   "number_sections": true,
   "sideBar": true,
   "skip_h1_title": false,
   "title_cell": "Table of Contents",
   "title_sidebar": "Contents",
   "toc_cell": false,
   "toc_position": {},
   "toc_section_display": true,
   "toc_window_display": false
  }
 },
 "nbformat": 4,
 "nbformat_minor": 2
}
